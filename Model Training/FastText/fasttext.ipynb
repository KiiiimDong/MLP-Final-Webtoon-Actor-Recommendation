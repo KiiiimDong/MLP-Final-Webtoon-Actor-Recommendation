{
 "cells": [
  {
   "cell_type": "markdown",
   "id": "73b78761",
   "metadata": {},
   "source": [
    "## 학습진행"
   ]
  },
  {
   "cell_type": "code",
   "execution_count": null,
   "id": "e34ccab2",
   "metadata": {},
   "outputs": [],
   "source": [
    "from gensim.models import FastText\n",
    "\n",
    "import json"
   ]
  },
  {
   "cell_type": "code",
   "execution_count": 3,
   "id": "391d9edb",
   "metadata": {},
   "outputs": [],
   "source": [
    "def make_corpus(input_file, output_file):\n",
    "    txt_file = open(output_file, 'w', encoding = 'utf-8')\n",
    "    \n",
    "    with open(input_file, 'r', encoding='utf-8') as f:\n",
    "        text = f.readlines()\n",
    "        num = 0\n",
    "        \n",
    "        for i in range(0, len(text)):\n",
    "            sentence_list = text[i].strip()\n",
    "            sentence = sentence_list.split('.')\n",
    "                \n",
    "            for j in range(0, len(sentence)):\n",
    "                if len(sentence[j].strip())>3:\n",
    "                    last_sentence = sentence[j].strip()\n",
    "                    txt_file.write(last_sentence + \"\\n\")\n",
    "                    num += 1        \n",
    "        \n",
    "make_corpus(\"total_content.txt\", \"corpus.txt\")"
   ]
  },
  {
   "cell_type": "code",
   "execution_count": 6,
   "id": "672a8e14",
   "metadata": {},
   "outputs": [],
   "source": [
    "from konlpy.tag import Okt\n",
    "\n",
    "def make_token(input_file, output_file):\n",
    "    okt = Okt()\n",
    "    token_txt_file = open(output_file, 'w', encoding='utf-8')\n",
    "    list = []\n",
    "    \n",
    "    with open(input_file, 'r', encoding='utf-8') as f:\n",
    "        text = f.readlines()\n",
    "        num = 0\n",
    "        \n",
    "        for i in range(0, len(text)):\n",
    "            sentence = text[i].strip()\n",
    "            morphs = okt.morphs(sentence, stem = True)\n",
    "            list.append(morphs)\n",
    "        \n",
    "        \n",
    "        my_json_string = json.dumps(list, ensure_ascii=False)\n",
    "        token_txt_file.write(my_json_string)\n",
    "        \n",
    "make_token(\"corpus.txt\", \"corpus_token.txt\")"
   ]
  },
  {
   "cell_type": "code",
   "execution_count": 7,
   "id": "2e0da468",
   "metadata": {},
   "outputs": [
    {
     "name": "stdout",
     "output_type": "stream",
     "text": [
      "[ 0.41424954  2.600925    0.82557386 -0.2984713   2.3688407  -0.74628794\n",
      " -1.2255691  -3.9300961  -0.9831164  -0.38621587  2.6411963   2.7204552\n",
      "  2.243681    0.8365614  -0.0977118   1.997234    0.82135487  0.9515939\n",
      "  3.8187382  -1.5574358   2.1750944   2.6126606  -0.91426635  0.837887\n",
      "  2.4437695   0.2789631  -1.0695958  -4.4068375  -1.6160078  -1.064938\n",
      "  0.01403208  2.6084924  -0.19754735 -2.6775355  -0.38544077 -0.7549546\n",
      " -1.197774    0.57701516  0.27983537  3.1817906  -0.71462    -0.795382\n",
      "  2.178529   -0.16274309 -1.9130433  -0.09976114  0.18691158  0.8695467\n",
      " -0.49301895 -1.4417881   2.4193163   1.6121761  -0.46604776 -1.474964\n",
      "  1.847831    1.5608251   2.619072   -1.6445531  -3.8485284  -1.0068119\n",
      "  1.2150956   1.5621545  -0.04492944 -0.3763346   2.989825   -0.9678318\n",
      "  1.0787032   2.2931833   3.345565    0.01503907 -0.16198598  1.4865673\n",
      " -1.0604293   0.4496165   1.9327141   3.7425547  -0.94049436  1.2256433\n",
      " -1.976967    0.5725565  -0.6482222  -0.43032163  0.69621617  2.7307477\n",
      " -0.5634269  -0.72830975  1.1218072  -2.945643   -1.251133    0.04143412\n",
      "  0.7434081  -1.9958823  -0.5992188   0.56546295 -0.20188285  2.0886824\n",
      " -1.552747    0.66993624 -1.2026927  -0.70608467]\n"
     ]
    }
   ],
   "source": [
    "from gensim.models import FastText\n",
    "\n",
    "with open('corpus_token.txt', 'r', encoding='utf-8') as f:\n",
    "    text = f.readlines()\n",
    "    data = json.loads(text[0])\n",
    "    \n",
    "embedding = FastText(data, size=100, window=7, negative=3, min_count=5, iter=10)\n",
    "embedding.save('fasttext.model')\n",
    "\n",
    "model = FastText.load('fasttext.model')\n",
    "print(model.wv['좋다'])"
   ]
  },
  {
   "cell_type": "code",
   "execution_count": 8,
   "id": "7527d0c0",
   "metadata": {},
   "outputs": [
    {
     "name": "stderr",
     "output_type": "stream",
     "text": [
      "/tmp/ipykernel_17466/1649702351.py:1: DeprecationWarning: Call to deprecated `most_similar` (Method will be removed in 4.0.0, use self.wv.most_similar() instead).\n",
      "  model.most_similar('좋다')\n"
     ]
    },
    {
     "data": {
      "text/plain": [
       "[('딱좋다', 0.9475457072257996),\n",
       " ('안좋다', 0.754432201385498),\n",
       " ('괜찮다', 0.6838874816894531),\n",
       " ('차분하다', 0.6680311560630798),\n",
       " ('사이좋다', 0.659811794757843),\n",
       " ('좋아지다', 0.6593282222747803),\n",
       " ('나잘하다', 0.6208498477935791),\n",
       " ('조아하다', 0.6125946044921875),\n",
       " ('시원찮다', 0.6086327433586121),\n",
       " ('지저분하다', 0.6053743362426758)]"
      ]
     },
     "execution_count": 8,
     "metadata": {},
     "output_type": "execute_result"
    }
   ],
   "source": [
    "model.most_similar('좋다')"
   ]
  },
  {
   "cell_type": "code",
   "execution_count": 9,
   "id": "69721cf6",
   "metadata": {},
   "outputs": [
    {
     "data": {
      "text/plain": [
       "0.8116208"
      ]
     },
     "execution_count": 9,
     "metadata": {},
     "output_type": "execute_result"
    }
   ],
   "source": [
    "sim_score = model.wv.similarity('착하다', '선하다')\n",
    "sim_score"
   ]
  },
  {
   "cell_type": "code",
   "execution_count": 15,
   "id": "0fe5135e",
   "metadata": {},
   "outputs": [
    {
     "data": {
      "text/plain": [
       "0.91169214"
      ]
     },
     "execution_count": 15,
     "metadata": {},
     "output_type": "execute_result"
    }
   ],
   "source": [
    "sim_score = model.wv.similarity('듬직하다', '자상하다')\n",
    "sim_score"
   ]
  }
 ],
 "metadata": {
  "kernelspec": {
   "display_name": "Python 3 (ipykernel)",
   "language": "python",
   "name": "python3"
  },
  "language_info": {
   "codemirror_mode": {
    "name": "ipython",
    "version": 3
   },
   "file_extension": ".py",
   "mimetype": "text/x-python",
   "name": "python",
   "nbconvert_exporter": "python",
   "pygments_lexer": "ipython3",
   "version": "3.8.12"
  }
 },
 "nbformat": 4,
 "nbformat_minor": 5
}
