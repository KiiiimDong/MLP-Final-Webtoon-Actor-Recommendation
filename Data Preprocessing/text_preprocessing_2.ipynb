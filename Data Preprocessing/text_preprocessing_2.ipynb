{
 "cells": [
  {
   "cell_type": "code",
   "execution_count": 1,
   "id": "0b9a20d5",
   "metadata": {},
   "outputs": [],
   "source": [
    "import pandas as pd\n",
    "import numpy as np\n",
    "import re"
   ]
  },
  {
   "cell_type": "code",
   "execution_count": 10,
   "id": "683d4e82",
   "metadata": {},
   "outputs": [],
   "source": [
    "import os\n",
    "import urllib.request\n",
    "from tqdm import tqdm_notebook"
   ]
  },
  {
   "cell_type": "code",
   "execution_count": 11,
   "id": "3b4ce123",
   "metadata": {},
   "outputs": [],
   "source": [
    "def save_img(df):\n",
    "    num_pic = len(df['사진url'])\n",
    "    \n",
    "    # image 폴더 없으면 생성\n",
    "    if not os.path.exists('actors_img'):\n",
    "        os.makedirs('actors_img')\n",
    "    \n",
    "    for i in tqdm_notebook(range(0, num_pic)):\n",
    "        try:\n",
    "            url = df['사진url'][i]\n",
    "            name = df['Name'][i]\n",
    "            urllib.request.urlretrieve(url, f\"actors_img/{name}.jpg\")\n",
    "        except Exception as e:\n",
    "            print(f\"{i} {name}에서 에러 발생\")\n",
    "            print(e)\n",
    "            pass"
   ]
  },
  {
   "cell_type": "code",
   "execution_count": 4,
   "id": "11ee5fae",
   "metadata": {},
   "outputs": [
    {
     "data": {
      "text/html": [
       "<div>\n",
       "<style scoped>\n",
       "    .dataframe tbody tr th:only-of-type {\n",
       "        vertical-align: middle;\n",
       "    }\n",
       "\n",
       "    .dataframe tbody tr th {\n",
       "        vertical-align: top;\n",
       "    }\n",
       "\n",
       "    .dataframe thead th {\n",
       "        text-align: right;\n",
       "    }\n",
       "</style>\n",
       "<table border=\"1\" class=\"dataframe\">\n",
       "  <thead>\n",
       "    <tr style=\"text-align: right;\">\n",
       "      <th></th>\n",
       "      <th>Name</th>\n",
       "      <th>Age</th>\n",
       "      <th>Sex</th>\n",
       "      <th>수상내역</th>\n",
       "      <th>드라마활동</th>\n",
       "      <th>activation_content</th>\n",
       "      <th>사진url</th>\n",
       "    </tr>\n",
       "  </thead>\n",
       "  <tbody>\n",
       "    <tr>\n",
       "      <th>0</th>\n",
       "      <td>감우성</td>\n",
       "      <td>52</td>\n",
       "      <td>남</td>\n",
       "      <td>['2018 SBS 연기대상 대상', '2018 SBS 연기대상 베스트 커플상', ...</td>\n",
       "      <td>['바람이 분다/주연/권도훈 역/https://search.naver.com/sea...</td>\n",
       "      <td>MBC 20기 공채 탤런트로 배우 생활을 시작했으며 동기로 한석규, 박철, 차광수,...</td>\n",
       "      <td>https://search.pstatic.net/common?type=b&amp;size=...</td>\n",
       "    </tr>\n",
       "    <tr>\n",
       "      <th>1</th>\n",
       "      <td>강경준</td>\n",
       "      <td>39</td>\n",
       "      <td>남</td>\n",
       "      <td>['2017 MBC 연기대상 연속극부문 남자 우수연기상', '2004 MBC 방송연...</td>\n",
       "      <td>['별별 며느리/주연/최한주 역/https://search.naver.com/sea...</td>\n",
       "      <td>초등학교 시절에는 야구, 중학교 시절에는 농구선수였었다. 농구를 소재로 한 드라마 ...</td>\n",
       "      <td>https://search.pstatic.net/common?type=b&amp;size=...</td>\n",
       "    </tr>\n",
       "    <tr>\n",
       "      <th>2</th>\n",
       "      <td>강기영</td>\n",
       "      <td>39</td>\n",
       "      <td>남</td>\n",
       "      <td>['2019 제8회 대한민국 베스트 스타상 베스트 조연상', '2019 제12회 코...</td>\n",
       "      <td>['이상한 변호사 우영우/주연/정명석 역/https://search.naver.co...</td>\n",
       "      <td>tvN 드라마 고교처세왕, 오 나의 귀신님에서 감초역할로 등장하며 이름을 알렸다. ...</td>\n",
       "      <td>https://search.pstatic.net/common?type=b&amp;size=...</td>\n",
       "    </tr>\n",
       "    <tr>\n",
       "      <th>3</th>\n",
       "      <td>강남길</td>\n",
       "      <td>64</td>\n",
       "      <td>남</td>\n",
       "      <td>['2009 MBC 연기대상 황금연기상 중견배우 부문']</td>\n",
       "      <td>['왼손잡이 아내/조연/오창수 역/https://search.naver.com/se...</td>\n",
       "      <td>서울수색초등학교, 서울양정중학교, 서울대신고등학교를 졸업했고 한양대학교 영어영문학과...</td>\n",
       "      <td>https://search.pstatic.net/common?type=b&amp;size=...</td>\n",
       "    </tr>\n",
       "    <tr>\n",
       "      <th>4</th>\n",
       "      <td>강지섭</td>\n",
       "      <td>41</td>\n",
       "      <td>남</td>\n",
       "      <td>['2006 SBS 연기대상 뉴스타상']</td>\n",
       "      <td>['브라보 마이 라이프/주연/설도현 역/https://search.naver.com...</td>\n",
       "      <td>고향이 부산이며 70만원을 들고 서울로 상경해 고시원에서 생활을 했다. 어렸을 때부...</td>\n",
       "      <td>https://search.pstatic.net/common?type=b&amp;size=...</td>\n",
       "    </tr>\n",
       "  </tbody>\n",
       "</table>\n",
       "</div>"
      ],
      "text/plain": [
       "  Name  Age Sex                                               수상내역  \\\n",
       "0  감우성   52   남  ['2018 SBS 연기대상 대상', '2018 SBS 연기대상 베스트 커플상', ...   \n",
       "1  강경준   39   남  ['2017 MBC 연기대상 연속극부문 남자 우수연기상', '2004 MBC 방송연...   \n",
       "2  강기영   39   남  ['2019 제8회 대한민국 베스트 스타상 베스트 조연상', '2019 제12회 코...   \n",
       "3  강남길   64   남                    ['2009 MBC 연기대상 황금연기상 중견배우 부문']   \n",
       "4  강지섭   41   남                             ['2006 SBS 연기대상 뉴스타상']   \n",
       "\n",
       "                                               드라마활동  \\\n",
       "0  ['바람이 분다/주연/권도훈 역/https://search.naver.com/sea...   \n",
       "1  ['별별 며느리/주연/최한주 역/https://search.naver.com/sea...   \n",
       "2  ['이상한 변호사 우영우/주연/정명석 역/https://search.naver.co...   \n",
       "3  ['왼손잡이 아내/조연/오창수 역/https://search.naver.com/se...   \n",
       "4  ['브라보 마이 라이프/주연/설도현 역/https://search.naver.com...   \n",
       "\n",
       "                                  activation_content  \\\n",
       "0  MBC 20기 공채 탤런트로 배우 생활을 시작했으며 동기로 한석규, 박철, 차광수,...   \n",
       "1  초등학교 시절에는 야구, 중학교 시절에는 농구선수였었다. 농구를 소재로 한 드라마 ...   \n",
       "2  tvN 드라마 고교처세왕, 오 나의 귀신님에서 감초역할로 등장하며 이름을 알렸다. ...   \n",
       "3  서울수색초등학교, 서울양정중학교, 서울대신고등학교를 졸업했고 한양대학교 영어영문학과...   \n",
       "4  고향이 부산이며 70만원을 들고 서울로 상경해 고시원에서 생활을 했다. 어렸을 때부...   \n",
       "\n",
       "                                               사진url  \n",
       "0  https://search.pstatic.net/common?type=b&size=...  \n",
       "1  https://search.pstatic.net/common?type=b&size=...  \n",
       "2  https://search.pstatic.net/common?type=b&size=...  \n",
       "3  https://search.pstatic.net/common?type=b&size=...  \n",
       "4  https://search.pstatic.net/common?type=b&size=...  "
      ]
     },
     "execution_count": 4,
     "metadata": {},
     "output_type": "execute_result"
    }
   ],
   "source": [
    "actors_df = pd.read_csv('test_actors_info.csv', encoding='utf-8-sig')\n",
    "actors_df.head()"
   ]
  },
  {
   "cell_type": "markdown",
   "id": "ff6069c9",
   "metadata": {},
   "source": [
    "## 1. 이미지 추출"
   ]
  },
  {
   "cell_type": "code",
   "execution_count": 12,
   "id": "d35ec7eb",
   "metadata": {},
   "outputs": [
    {
     "name": "stderr",
     "output_type": "stream",
     "text": [
      "C:\\Users\\USER\\AppData\\Local\\Temp\\ipykernel_5332\\1428063913.py:8: TqdmDeprecationWarning: This function will be removed in tqdm==5.0.0\n",
      "Please use `tqdm.notebook.tqdm` instead of `tqdm.tqdm_notebook`\n",
      "  for i in tqdm_notebook(range(0, num_pic)):\n"
     ]
    },
    {
     "data": {
      "application/vnd.jupyter.widget-view+json": {
       "model_id": "81ddba7913bc447fac66f4e33eff0619",
       "version_major": 2,
       "version_minor": 0
      },
      "text/plain": [
       "  0%|          | 0/256 [00:00<?, ?it/s]"
      ]
     },
     "metadata": {},
     "output_type": "display_data"
    }
   ],
   "source": [
    "save_img(actors_df)"
   ]
  },
  {
   "cell_type": "markdown",
   "id": "a0a34e47",
   "metadata": {},
   "source": [
    "## 2. 드라마활동 > 배역별 내용 추출"
   ]
  },
  {
   "cell_type": "code",
   "execution_count": 46,
   "id": "669ed2a1",
   "metadata": {},
   "outputs": [],
   "source": [
    "import requests\n",
    "from bs4 import BeautifulSoup"
   ]
  },
  {
   "cell_type": "code",
   "execution_count": 52,
   "id": "5d03be4a",
   "metadata": {},
   "outputs": [
    {
     "data": {
      "text/plain": [
       "'첫사랑 수진과 열렬한 연애 끝에 결혼까지 성공했다. 남에게 피해 주지 않고 올곧고 바르게 살자는 모토 하나로 아름다운 인생을 누려왔다. 아이를 좋아해 제과업체 제품개발팀에서 인생을 올인했고, 하루빨리 안정적이고 여유로운 상황을 만들어 수진과 행복하게 살날만을 바랬다. 탄탄대로인 도훈에게 어두운 그림자가 덮쳤다. 하지만, 어느새 사랑과 가족의 중요함을 까맣게 잊어버린 남자.'"
      ]
     },
     "execution_count": 52,
     "metadata": {},
     "output_type": "execute_result"
    }
   ],
   "source": [
    "resp = requests.get('https://search.naver.com/search.naver?where=nexearch&sm=tab_etc&qvt=0&query=%EB%B0%94%EB%9E%8C%EC%9D%B4%EB%B6%84%EB%8B%A4%EA%B6%8C%EB%8F%84%ED%9B%88')\n",
    "soup = BeautifulSoup(resp.text)\n",
    "soup.select_one('.desc._text').text"
   ]
  },
  {
   "cell_type": "code",
   "execution_count": 62,
   "id": "c4c77036",
   "metadata": {},
   "outputs": [],
   "source": [
    "def extract_casting_content(df):\n",
    "    c_df = df.copy()\n",
    "    acting_info_list = []\n",
    "    \n",
    "    for i in tqdm_notebook(c_df.드라마활동):\n",
    "        acting_info = []\n",
    "        \n",
    "        #drama_activation_list = re.findall(\"'([^']*)'\", i)\n",
    "        drama_acting_content_url_list =  re.findall(\"https([^']*)'\", i)\n",
    "        \n",
    "        for url in drama_acting_content_url_list:\n",
    "            resp = requests.get('https' + url)\n",
    "            soup = BeautifulSoup(resp.text)\n",
    "            try:\n",
    "                drama_acting_content = soup.select_one('.desc._text').text\n",
    "            except:\n",
    "                drama_acting_content = ''\n",
    "            acting_info.append(drama_acting_content)\n",
    "        \n",
    "        acting_info_list.append(acting_info)\n",
    "    \n",
    "    c_df['배역내용'] = acting_info_list\n",
    "    \n",
    "    return c_df"
   ]
  },
  {
   "cell_type": "code",
   "execution_count": 63,
   "id": "7f847ad0",
   "metadata": {},
   "outputs": [
    {
     "name": "stderr",
     "output_type": "stream",
     "text": [
      "C:\\Users\\USER\\AppData\\Local\\Temp\\ipykernel_5332\\2826311475.py:5: TqdmDeprecationWarning: This function will be removed in tqdm==5.0.0\n",
      "Please use `tqdm.notebook.tqdm` instead of `tqdm.tqdm_notebook`\n",
      "  for i in tqdm_notebook(c_df.드라마활동):\n"
     ]
    },
    {
     "data": {
      "application/vnd.jupyter.widget-view+json": {
       "model_id": "24477735c48a4d368cbfa73f20591384",
       "version_major": 2,
       "version_minor": 0
      },
      "text/plain": [
       "  0%|          | 0/256 [00:00<?, ?it/s]"
      ]
     },
     "metadata": {},
     "output_type": "display_data"
    }
   ],
   "source": [
    "tmp = extract_casting_content(actors_df)"
   ]
  },
  {
   "cell_type": "code",
   "execution_count": 64,
   "id": "81be26cd",
   "metadata": {},
   "outputs": [
    {
     "data": {
      "text/html": [
       "<div>\n",
       "<style scoped>\n",
       "    .dataframe tbody tr th:only-of-type {\n",
       "        vertical-align: middle;\n",
       "    }\n",
       "\n",
       "    .dataframe tbody tr th {\n",
       "        vertical-align: top;\n",
       "    }\n",
       "\n",
       "    .dataframe thead th {\n",
       "        text-align: right;\n",
       "    }\n",
       "</style>\n",
       "<table border=\"1\" class=\"dataframe\">\n",
       "  <thead>\n",
       "    <tr style=\"text-align: right;\">\n",
       "      <th></th>\n",
       "      <th>Name</th>\n",
       "      <th>Age</th>\n",
       "      <th>Sex</th>\n",
       "      <th>수상내역</th>\n",
       "      <th>드라마활동</th>\n",
       "      <th>activation_content</th>\n",
       "      <th>사진url</th>\n",
       "      <th>배역내용</th>\n",
       "    </tr>\n",
       "  </thead>\n",
       "  <tbody>\n",
       "    <tr>\n",
       "      <th>0</th>\n",
       "      <td>감우성</td>\n",
       "      <td>52</td>\n",
       "      <td>남</td>\n",
       "      <td>['2018 SBS 연기대상 대상', '2018 SBS 연기대상 베스트 커플상', ...</td>\n",
       "      <td>['바람이 분다/주연/권도훈 역/https://search.naver.com/sea...</td>\n",
       "      <td>MBC 20기 공채 탤런트로 배우 생활을 시작했으며 동기로 한석규, 박철, 차광수,...</td>\n",
       "      <td>https://search.pstatic.net/common?type=b&amp;size=...</td>\n",
       "      <td>[첫사랑 수진과 열렬한 연애 끝에 결혼까지 성공했다. 남에게 피해 주지 않고 올곧고...</td>\n",
       "    </tr>\n",
       "    <tr>\n",
       "      <th>1</th>\n",
       "      <td>강경준</td>\n",
       "      <td>39</td>\n",
       "      <td>남</td>\n",
       "      <td>['2017 MBC 연기대상 연속극부문 남자 우수연기상', '2004 MBC 방송연...</td>\n",
       "      <td>['별별 며느리/주연/최한주 역/https://search.naver.com/sea...</td>\n",
       "      <td>초등학교 시절에는 야구, 중학교 시절에는 농구선수였었다. 농구를 소재로 한 드라마 ...</td>\n",
       "      <td>https://search.pstatic.net/common?type=b&amp;size=...</td>\n",
       "      <td>[흙수저? 아니, 몸짱 얼짱 마음까지 짱인 태권도장 사범. 얼굴만 봐도 신뢰감이 뚝...</td>\n",
       "    </tr>\n",
       "    <tr>\n",
       "      <th>2</th>\n",
       "      <td>강기영</td>\n",
       "      <td>39</td>\n",
       "      <td>남</td>\n",
       "      <td>['2019 제8회 대한민국 베스트 스타상 베스트 조연상', '2019 제12회 코...</td>\n",
       "      <td>['이상한 변호사 우영우/주연/정명석 역/https://search.naver.co...</td>\n",
       "      <td>tvN 드라마 고교처세왕, 오 나의 귀신님에서 감초역할로 등장하며 이름을 알렸다. ...</td>\n",
       "      <td>https://search.pstatic.net/common?type=b&amp;size=...</td>\n",
       "      <td>[일에 대한 자부심이 강한 법무법인 한바다의 시니어 변호사이자 우영우의 멘토., 2...</td>\n",
       "    </tr>\n",
       "    <tr>\n",
       "      <th>3</th>\n",
       "      <td>강남길</td>\n",
       "      <td>64</td>\n",
       "      <td>남</td>\n",
       "      <td>['2009 MBC 연기대상 황금연기상 중견배우 부문']</td>\n",
       "      <td>['왼손잡이 아내/조연/오창수 역/https://search.naver.com/se...</td>\n",
       "      <td>서울수색초등학교, 서울양정중학교, 서울대신고등학교를 졸업했고 한양대학교 영어영문학과...</td>\n",
       "      <td>https://search.pstatic.net/common?type=b&amp;size=...</td>\n",
       "      <td>[산하의 아버지. 천성이 무골호인으로 허허실실 부드럽지만 처자식을 사랑하는 데는 세...</td>\n",
       "    </tr>\n",
       "    <tr>\n",
       "      <th>4</th>\n",
       "      <td>강지섭</td>\n",
       "      <td>41</td>\n",
       "      <td>남</td>\n",
       "      <td>['2006 SBS 연기대상 뉴스타상']</td>\n",
       "      <td>['브라보 마이 라이프/주연/설도현 역/https://search.naver.com...</td>\n",
       "      <td>고향이 부산이며 70만원을 들고 서울로 상경해 고시원에서 생활을 했다. 어렸을 때부...</td>\n",
       "      <td>https://search.pstatic.net/common?type=b&amp;size=...</td>\n",
       "      <td>[안하무인의 절대 강자. 드라마, 영화, CF에서 몸값 높은 배우이다. 현장에서 갑...</td>\n",
       "    </tr>\n",
       "  </tbody>\n",
       "</table>\n",
       "</div>"
      ],
      "text/plain": [
       "  Name  Age Sex                                               수상내역  \\\n",
       "0  감우성   52   남  ['2018 SBS 연기대상 대상', '2018 SBS 연기대상 베스트 커플상', ...   \n",
       "1  강경준   39   남  ['2017 MBC 연기대상 연속극부문 남자 우수연기상', '2004 MBC 방송연...   \n",
       "2  강기영   39   남  ['2019 제8회 대한민국 베스트 스타상 베스트 조연상', '2019 제12회 코...   \n",
       "3  강남길   64   남                    ['2009 MBC 연기대상 황금연기상 중견배우 부문']   \n",
       "4  강지섭   41   남                             ['2006 SBS 연기대상 뉴스타상']   \n",
       "\n",
       "                                               드라마활동  \\\n",
       "0  ['바람이 분다/주연/권도훈 역/https://search.naver.com/sea...   \n",
       "1  ['별별 며느리/주연/최한주 역/https://search.naver.com/sea...   \n",
       "2  ['이상한 변호사 우영우/주연/정명석 역/https://search.naver.co...   \n",
       "3  ['왼손잡이 아내/조연/오창수 역/https://search.naver.com/se...   \n",
       "4  ['브라보 마이 라이프/주연/설도현 역/https://search.naver.com...   \n",
       "\n",
       "                                  activation_content  \\\n",
       "0  MBC 20기 공채 탤런트로 배우 생활을 시작했으며 동기로 한석규, 박철, 차광수,...   \n",
       "1  초등학교 시절에는 야구, 중학교 시절에는 농구선수였었다. 농구를 소재로 한 드라마 ...   \n",
       "2  tvN 드라마 고교처세왕, 오 나의 귀신님에서 감초역할로 등장하며 이름을 알렸다. ...   \n",
       "3  서울수색초등학교, 서울양정중학교, 서울대신고등학교를 졸업했고 한양대학교 영어영문학과...   \n",
       "4  고향이 부산이며 70만원을 들고 서울로 상경해 고시원에서 생활을 했다. 어렸을 때부...   \n",
       "\n",
       "                                               사진url  \\\n",
       "0  https://search.pstatic.net/common?type=b&size=...   \n",
       "1  https://search.pstatic.net/common?type=b&size=...   \n",
       "2  https://search.pstatic.net/common?type=b&size=...   \n",
       "3  https://search.pstatic.net/common?type=b&size=...   \n",
       "4  https://search.pstatic.net/common?type=b&size=...   \n",
       "\n",
       "                                                배역내용  \n",
       "0  [첫사랑 수진과 열렬한 연애 끝에 결혼까지 성공했다. 남에게 피해 주지 않고 올곧고...  \n",
       "1  [흙수저? 아니, 몸짱 얼짱 마음까지 짱인 태권도장 사범. 얼굴만 봐도 신뢰감이 뚝...  \n",
       "2  [일에 대한 자부심이 강한 법무법인 한바다의 시니어 변호사이자 우영우의 멘토., 2...  \n",
       "3  [산하의 아버지. 천성이 무골호인으로 허허실실 부드럽지만 처자식을 사랑하는 데는 세...  \n",
       "4  [안하무인의 절대 강자. 드라마, 영화, CF에서 몸값 높은 배우이다. 현장에서 갑...  "
      ]
     },
     "execution_count": 64,
     "metadata": {},
     "output_type": "execute_result"
    }
   ],
   "source": [
    "tmp.head()"
   ]
  },
  {
   "cell_type": "markdown",
   "id": "c92093c2",
   "metadata": {},
   "source": [
    "## 3. Age 중 이상 값 처리"
   ]
  },
  {
   "cell_type": "code",
   "execution_count": 65,
   "id": "ada1c42e",
   "metadata": {},
   "outputs": [
    {
     "data": {
      "text/plain": [
       "array([  52,   39,   64,   41,   53,   40,   49,   25,   57,   42,   50,\n",
       "         82,   32,   60,   44,   34,   35,   69,   76,   68,   51,   88,\n",
       "         20,   28,   37,   43,   29,   77,   27,   31,   75,   78,   36,\n",
       "         80,   73,   33,   67,   58,   46,   85,   48,   30,   45,   83,\n",
       "         66,   56, 1978,   79,   38,   70,   61,   26,   55,   62,   81,\n",
       "         71,   65,   47,   15,   63,   54], dtype=int64)"
      ]
     },
     "execution_count": 65,
     "metadata": {},
     "output_type": "execute_result"
    }
   ],
   "source": [
    "tmp.Age.unique()"
   ]
  },
  {
   "cell_type": "code",
   "execution_count": 67,
   "id": "0c8726ca",
   "metadata": {},
   "outputs": [
    {
     "data": {
      "text/plain": [
       "Int64Index([79], dtype='int64')"
      ]
     },
     "execution_count": 67,
     "metadata": {},
     "output_type": "execute_result"
    }
   ],
   "source": [
    "tmp[tmp.Age == 1978]"
   ]
  },
  {
   "cell_type": "code",
   "execution_count": 69,
   "id": "7627c274",
   "metadata": {},
   "outputs": [
    {
     "data": {
      "text/html": [
       "<div>\n",
       "<style scoped>\n",
       "    .dataframe tbody tr th:only-of-type {\n",
       "        vertical-align: middle;\n",
       "    }\n",
       "\n",
       "    .dataframe tbody tr th {\n",
       "        vertical-align: top;\n",
       "    }\n",
       "\n",
       "    .dataframe thead th {\n",
       "        text-align: right;\n",
       "    }\n",
       "</style>\n",
       "<table border=\"1\" class=\"dataframe\">\n",
       "  <thead>\n",
       "    <tr style=\"text-align: right;\">\n",
       "      <th></th>\n",
       "      <th>Name</th>\n",
       "      <th>Age</th>\n",
       "      <th>Sex</th>\n",
       "      <th>수상내역</th>\n",
       "      <th>드라마활동</th>\n",
       "      <th>activation_content</th>\n",
       "      <th>사진url</th>\n",
       "      <th>배역내용</th>\n",
       "    </tr>\n",
       "  </thead>\n",
       "  <tbody>\n",
       "  </tbody>\n",
       "</table>\n",
       "</div>"
      ],
      "text/plain": [
       "Empty DataFrame\n",
       "Columns: [Name, Age, Sex, 수상내역, 드라마활동, activation_content, 사진url, 배역내용]\n",
       "Index: []"
      ]
     },
     "execution_count": 69,
     "metadata": {},
     "output_type": "execute_result"
    }
   ],
   "source": [
    "tmp.loc[79, 'Age'] = 2022 - 1978"
   ]
  },
  {
   "cell_type": "code",
   "execution_count": 70,
   "id": "3f332f75",
   "metadata": {},
   "outputs": [
    {
     "data": {
      "text/plain": [
       "array([52, 39, 64, 41, 53, 40, 49, 25, 57, 42, 50, 82, 32, 60, 44, 34, 35,\n",
       "       69, 76, 68, 51, 88, 20, 28, 37, 43, 29, 77, 27, 31, 75, 78, 36, 80,\n",
       "       73, 33, 67, 58, 46, 85, 48, 30, 45, 83, 66, 56, 79, 38, 70, 61, 26,\n",
       "       55, 62, 81, 71, 65, 47, 15, 63, 54], dtype=int64)"
      ]
     },
     "execution_count": 70,
     "metadata": {},
     "output_type": "execute_result"
    }
   ],
   "source": [
    "tmp.Age.unique()"
   ]
  },
  {
   "cell_type": "markdown",
   "id": "c5879c53",
   "metadata": {},
   "source": [
    "## 4. 저장"
   ]
  },
  {
   "cell_type": "code",
   "execution_count": 71,
   "id": "cc0bce0a",
   "metadata": {},
   "outputs": [],
   "source": [
    "tmp.to_csv('clean_test_actors_info.csv', encoding='utf-8-sig', index=False)"
   ]
  }
 ],
 "metadata": {
  "kernelspec": {
   "display_name": "Python 3 (ipykernel)",
   "language": "python",
   "name": "python3"
  },
  "language_info": {
   "codemirror_mode": {
    "name": "ipython",
    "version": 3
   },
   "file_extension": ".py",
   "mimetype": "text/x-python",
   "name": "python",
   "nbconvert_exporter": "python",
   "pygments_lexer": "ipython3",
   "version": "3.9.12"
  }
 },
 "nbformat": 4,
 "nbformat_minor": 5
}
