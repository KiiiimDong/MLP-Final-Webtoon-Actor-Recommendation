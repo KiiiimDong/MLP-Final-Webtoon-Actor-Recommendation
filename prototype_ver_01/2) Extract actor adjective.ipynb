{
 "cells": [
  {
   "cell_type": "markdown",
   "id": "86cf7a01",
   "metadata": {},
   "source": [
    "## 1. 패키지 로드"
   ]
  },
  {
   "cell_type": "code",
   "execution_count": 29,
   "id": "3d14a73d",
   "metadata": {},
   "outputs": [],
   "source": [
    "import numpy as np\n",
    "import pandas as pd\n",
    "from konlpy.tag import Okt\n",
    "from collections import Counter\n",
    "from tqdm import tqdm_notebook"
   ]
  },
  {
   "cell_type": "markdown",
   "id": "a0213df6",
   "metadata": {},
   "source": [
    "## 2. 데이터 로드"
   ]
  },
  {
   "cell_type": "code",
   "execution_count": 3,
   "id": "86cdc0c4",
   "metadata": {},
   "outputs": [
    {
     "data": {
      "text/html": [
       "<div>\n",
       "<style scoped>\n",
       "    .dataframe tbody tr th:only-of-type {\n",
       "        vertical-align: middle;\n",
       "    }\n",
       "\n",
       "    .dataframe tbody tr th {\n",
       "        vertical-align: top;\n",
       "    }\n",
       "\n",
       "    .dataframe thead th {\n",
       "        text-align: right;\n",
       "    }\n",
       "</style>\n",
       "<table border=\"1\" class=\"dataframe\">\n",
       "  <thead>\n",
       "    <tr style=\"text-align: right;\">\n",
       "      <th></th>\n",
       "      <th>Name</th>\n",
       "      <th>Age</th>\n",
       "      <th>Sex</th>\n",
       "      <th>수상내역</th>\n",
       "      <th>드라마활동</th>\n",
       "      <th>activation_content</th>\n",
       "      <th>사진url</th>\n",
       "      <th>배역내용</th>\n",
       "      <th>제목, 내용</th>\n",
       "    </tr>\n",
       "  </thead>\n",
       "  <tbody>\n",
       "    <tr>\n",
       "      <th>0</th>\n",
       "      <td>감우성</td>\n",
       "      <td>52</td>\n",
       "      <td>남</td>\n",
       "      <td>['2018 SBS 연기대상 대상', '2018 SBS 연기대상 베스트 커플상', ...</td>\n",
       "      <td>['바람이 분다/주연/권도훈 역/https://search.naver.com/sea...</td>\n",
       "      <td>MBC 20기 공채 탤런트로 배우 생활을 시작했으며 동기로 한석규, 박철, 차광수,...</td>\n",
       "      <td>https://search.pstatic.net/common?type=b&amp;size=...</td>\n",
       "      <td>['첫사랑 수진과 열렬한 연애 끝에 결혼까지 성공했다. 남에게 피해 주지 않고 올곧...</td>\n",
       "      <td>감우성 닮으면 잘생긴거냐?,내 친구 미용실가서 누나가 감우성 닮았다는데 잘생긴거냐 ...</td>\n",
       "    </tr>\n",
       "    <tr>\n",
       "      <th>1</th>\n",
       "      <td>강경준</td>\n",
       "      <td>39</td>\n",
       "      <td>남</td>\n",
       "      <td>['2017 MBC 연기대상 연속극부문 남자 우수연기상', '2004 MBC 방송연...</td>\n",
       "      <td>['별별 며느리/주연/최한주 역/https://search.naver.com/sea...</td>\n",
       "      <td>초등학교 시절에는 야구, 중학교 시절에는 농구선수였었다. 농구를 소재로 한 드라마 ...</td>\n",
       "      <td>https://search.pstatic.net/common?type=b&amp;size=...</td>\n",
       "      <td>['흙수저? 아니, 몸짱 얼짱 마음까지 짱인 태권도장 사범. 얼굴만 봐도 신뢰감이 ...</td>\n",
       "      <td>강경준 -&gt; 강 산 -&gt; 강승호네,이름 두번이나 바꿨구나\\n그러고보니 남다 딱 장신...</td>\n",
       "    </tr>\n",
       "  </tbody>\n",
       "</table>\n",
       "</div>"
      ],
      "text/plain": [
       "  Name  Age Sex                                               수상내역  \\\n",
       "0  감우성   52   남  ['2018 SBS 연기대상 대상', '2018 SBS 연기대상 베스트 커플상', ...   \n",
       "1  강경준   39   남  ['2017 MBC 연기대상 연속극부문 남자 우수연기상', '2004 MBC 방송연...   \n",
       "\n",
       "                                               드라마활동  \\\n",
       "0  ['바람이 분다/주연/권도훈 역/https://search.naver.com/sea...   \n",
       "1  ['별별 며느리/주연/최한주 역/https://search.naver.com/sea...   \n",
       "\n",
       "                                  activation_content  \\\n",
       "0  MBC 20기 공채 탤런트로 배우 생활을 시작했으며 동기로 한석규, 박철, 차광수,...   \n",
       "1  초등학교 시절에는 야구, 중학교 시절에는 농구선수였었다. 농구를 소재로 한 드라마 ...   \n",
       "\n",
       "                                               사진url  \\\n",
       "0  https://search.pstatic.net/common?type=b&size=...   \n",
       "1  https://search.pstatic.net/common?type=b&size=...   \n",
       "\n",
       "                                                배역내용  \\\n",
       "0  ['첫사랑 수진과 열렬한 연애 끝에 결혼까지 성공했다. 남에게 피해 주지 않고 올곧...   \n",
       "1  ['흙수저? 아니, 몸짱 얼짱 마음까지 짱인 태권도장 사범. 얼굴만 봐도 신뢰감이 ...   \n",
       "\n",
       "                                              제목, 내용  \n",
       "0  감우성 닮으면 잘생긴거냐?,내 친구 미용실가서 누나가 감우성 닮았다는데 잘생긴거냐 ...  \n",
       "1  강경준 -> 강 산 -> 강승호네,이름 두번이나 바꿨구나\\n그러고보니 남다 딱 장신...  "
      ]
     },
     "execution_count": 3,
     "metadata": {},
     "output_type": "execute_result"
    }
   ],
   "source": [
    "actor_df = pd.read_csv('../text_data/Actor.csv', encoding='utf-8-sig')\n",
    "actor_df.head(2)"
   ]
  },
  {
   "cell_type": "markdown",
   "id": "82fa7372",
   "metadata": {},
   "source": [
    "## 3. 불용어 선정을 위한 데이터 전처리 및 분석"
   ]
  },
  {
   "cell_type": "markdown",
   "id": "3fe4b1dc",
   "metadata": {},
   "source": [
    "### 1) 데이터 전처리"
   ]
  },
  {
   "cell_type": "code",
   "execution_count": 11,
   "id": "9d0af572",
   "metadata": {},
   "outputs": [
    {
     "name": "stderr",
     "output_type": "stream",
     "text": [
      "/tmp/ipykernel_14857/2435645922.py:2: FutureWarning: The default value of regex will change from True to False in a future version.\n",
      "  actor_df['activation_content'] = actor_df['activation_content'].str.replace('[^가-힣 ]', '')\n",
      "/tmp/ipykernel_14857/2435645922.py:3: FutureWarning: The default value of regex will change from True to False in a future version.\n",
      "  actor_df['배역내용'] = actor_df['배역내용'].str.replace('[^가-힣 ]', '')\n",
      "/tmp/ipykernel_14857/2435645922.py:4: FutureWarning: The default value of regex will change from True to False in a future version.\n",
      "  actor_df['제목, 내용'] = actor_df['제목, 내용'].str.replace('[^가-힣 ]', '')\n"
     ]
    }
   ],
   "source": [
    "# 한글 외에 모두 제거\n",
    "actor_df['activation_content'] = actor_df['activation_content'].str.replace('[^가-힣 ]', '')\n",
    "actor_df['배역내용'] = actor_df['배역내용'].str.replace('[^가-힣 ]', '')\n",
    "actor_df['제목, 내용'] = actor_df['제목, 내용'].str.replace('[^가-힣 ]', '')"
   ]
  },
  {
   "cell_type": "code",
   "execution_count": 4,
   "id": "34d86a01",
   "metadata": {},
   "outputs": [],
   "source": [
    "# Okt 객체 선언\n",
    "okt = Okt()"
   ]
  },
  {
   "cell_type": "code",
   "execution_count": 6,
   "id": "60184a24",
   "metadata": {},
   "outputs": [],
   "source": [
    "# 토큰화된 morphs를 각각 담을 list\n",
    "activation_tag = []\n",
    "act_tag = []\n",
    "community_tag = []"
   ]
  },
  {
   "cell_type": "code",
   "execution_count": 12,
   "id": "81ff019a",
   "metadata": {},
   "outputs": [
    {
     "name": "stderr",
     "output_type": "stream",
     "text": [
      "/tmp/ipykernel_14857/1103689939.py:1: TqdmDeprecationWarning: This function will be removed in tqdm==5.0.0\n",
      "Please use `tqdm.notebook.tqdm` instead of `tqdm.tqdm_notebook`\n",
      "  for activation in tqdm_notebook(actor_df['activation_content']):\n"
     ]
    },
    {
     "data": {
      "application/vnd.jupyter.widget-view+json": {
       "model_id": "81aae58b75d34756b311bf39cd45c5dd",
       "version_major": 2,
       "version_minor": 0
      },
      "text/plain": [
       "  0%|          | 0/252 [00:00<?, ?it/s]"
      ]
     },
     "metadata": {},
     "output_type": "display_data"
    },
    {
     "name": "stderr",
     "output_type": "stream",
     "text": [
      "/tmp/ipykernel_14857/1103689939.py:5: TqdmDeprecationWarning: This function will be removed in tqdm==5.0.0\n",
      "Please use `tqdm.notebook.tqdm` instead of `tqdm.tqdm_notebook`\n",
      "  for act in tqdm_notebook(actor_df['배역내용']):\n"
     ]
    },
    {
     "data": {
      "application/vnd.jupyter.widget-view+json": {
       "model_id": "22406f3710504c3b955ea66bc5911bb2",
       "version_major": 2,
       "version_minor": 0
      },
      "text/plain": [
       "  0%|          | 0/252 [00:00<?, ?it/s]"
      ]
     },
     "metadata": {},
     "output_type": "display_data"
    },
    {
     "name": "stderr",
     "output_type": "stream",
     "text": [
      "/tmp/ipykernel_14857/1103689939.py:9: TqdmDeprecationWarning: This function will be removed in tqdm==5.0.0\n",
      "Please use `tqdm.notebook.tqdm` instead of `tqdm.tqdm_notebook`\n",
      "  for community in tqdm_notebook(actor_df['제목, 내용']):\n"
     ]
    },
    {
     "data": {
      "application/vnd.jupyter.widget-view+json": {
       "model_id": "02159b1e2ef948649bf9c0966d657f98",
       "version_major": 2,
       "version_minor": 0
      },
      "text/plain": [
       "  0%|          | 0/252 [00:00<?, ?it/s]"
      ]
     },
     "metadata": {},
     "output_type": "display_data"
    }
   ],
   "source": [
    "# 형태소 토큰화\n",
    "for activation in tqdm_notebook(actor_df['activation_content']):\n",
    "    morph = okt.pos(activation)\n",
    "    activation_tag.append(morph)\n",
    "\n",
    "for act in tqdm_notebook(actor_df['배역내용']):\n",
    "    morph = okt.pos(act)\n",
    "    act_tag.append(morph)\n",
    "    \n",
    "for community in tqdm_notebook(actor_df['제목, 내용']):\n",
    "    morph = okt.pos(community)\n",
    "    community_tag.append(morph)"
   ]
  },
  {
   "cell_type": "code",
   "execution_count": 13,
   "id": "e5da0930",
   "metadata": {},
   "outputs": [],
   "source": [
    "# 형용사만 추출\n",
    "stopwords = []\n",
    "activation_bucket_list = []\n",
    "act_bucket_list = []\n",
    "community_bucket_list = []\n",
    "\n",
    "for activation in activation_tag:\n",
    "    for word, tag in activation:\n",
    "        if tag in ['Adjective']:\n",
    "            if word not in stopwords:\n",
    "                activation_bucket_list.append(word)\n",
    "\n",
    "for act in act_tag:\n",
    "    for word, tag in act:\n",
    "        if tag in ['Adjective']:\n",
    "            if word not in stopwords:\n",
    "                act_bucket_list.append(word)\n",
    "                \n",
    "for community in community_tag:\n",
    "    for word, tag in community:\n",
    "        if tag in ['Adjective']:\n",
    "            if word not in stopwords:\n",
    "                community_bucket_list.append(word)"
   ]
  },
  {
   "cell_type": "markdown",
   "id": "da083be5",
   "metadata": {},
   "source": [
    "### 2) 불용어 선정"
   ]
  },
  {
   "cell_type": "code",
   "execution_count": 14,
   "id": "c58c7da5",
   "metadata": {
    "scrolled": true
   },
   "outputs": [
    {
     "data": {
      "text/plain": [
       "[('있다', 281),\n",
       " ('있는', 183),\n",
       " ('같은', 143),\n",
       " ('많은', 110),\n",
       " ('좋은', 87),\n",
       " ('없는', 79),\n",
       " ('다양한', 55),\n",
       " ('아니라', 54),\n",
       " ('있었다', 48),\n",
       " ('인해', 43),\n",
       " ('젊은', 41),\n",
       " ('있는데', 40),\n",
       " ('상당히', 40),\n",
       " ('꾸준히', 39),\n",
       " ('아닌', 38),\n",
       " ('수상했다', 35),\n",
       " ('많다', 32),\n",
       " ('희', 30),\n",
       " ('있을', 29),\n",
       " ('이런', 29),\n",
       " ('그런', 28),\n",
       " ('높은', 28),\n",
       " ('유명한', 27),\n",
       " ('굉장히', 27),\n",
       " ('있다고', 26),\n",
       " ('있고', 26),\n",
       " ('있으며', 25),\n",
       " ('새로운', 24),\n",
       " ('작은', 24),\n",
       " ('강렬한', 23),\n",
       " ('엄청난', 22),\n",
       " ('없다', 22),\n",
       " ('어떤', 22),\n",
       " ('뛰어난', 22),\n",
       " ('있어', 22),\n",
       " ('그러다', 21),\n",
       " ('있던', 20),\n",
       " ('상당한', 19),\n",
       " ('깊은', 19),\n",
       " ('있었는데', 18),\n",
       " ('완전히', 18),\n",
       " ('없고', 18),\n",
       " ('미', 17),\n",
       " ('있었던', 17),\n",
       " ('많았다', 16),\n",
       " ('강한', 16),\n",
       " ('수상하였다', 15),\n",
       " ('중요한', 15),\n",
       " ('있어서', 15),\n",
       " ('수많은', 15)]"
      ]
     },
     "execution_count": 14,
     "metadata": {},
     "output_type": "execute_result"
    }
   ],
   "source": [
    "# 불용어 선정을 위한 counter\n",
    "activation_counts = Counter(activation_bucket_list)\n",
    "activation_counts.most_common(50)"
   ]
  },
  {
   "cell_type": "code",
   "execution_count": 15,
   "id": "b561f5a3",
   "metadata": {
    "scrolled": true
   },
   "outputs": [
    {
     "data": {
      "text/plain": [
       "[('있다', 224),\n",
       " ('있는', 156),\n",
       " ('없는', 148),\n",
       " ('같은', 116),\n",
       " ('없다', 91),\n",
       " ('좋은', 42),\n",
       " ('그런', 41),\n",
       " ('많은', 39),\n",
       " ('없고', 39),\n",
       " ('많고', 31),\n",
       " ('뛰어난', 30),\n",
       " ('완벽한', 27),\n",
       " ('넘치는', 27),\n",
       " ('강한', 26),\n",
       " ('깊은', 25),\n",
       " ('유일한', 25),\n",
       " ('젊은', 25),\n",
       " ('있지만', 25),\n",
       " ('어떤', 24),\n",
       " ('작은', 24),\n",
       " ('있고', 24),\n",
       " ('아니라', 23),\n",
       " ('따뜻한', 22),\n",
       " ('없었다', 22),\n",
       " ('있었다', 21),\n",
       " ('미', 20),\n",
       " ('희', 19),\n",
       " ('화려한', 19),\n",
       " ('아닌', 18),\n",
       " ('아픈', 18),\n",
       " ('가난한', 17),\n",
       " ('있을', 17),\n",
       " ('평범한', 17),\n",
       " ('아름다운', 16),\n",
       " ('많다', 16),\n",
       " ('인해', 16),\n",
       " ('없어', 15),\n",
       " ('아니다', 14),\n",
       " ('아니', 14),\n",
       " ('좋고', 14),\n",
       " ('미친', 14),\n",
       " ('있다는', 14),\n",
       " ('있어', 14),\n",
       " ('이런', 13),\n",
       " ('없을', 13),\n",
       " ('있던', 13),\n",
       " ('착하고', 13),\n",
       " ('우아한', 13),\n",
       " ('나쁜', 12),\n",
       " ('새로운', 12)]"
      ]
     },
     "execution_count": 15,
     "metadata": {},
     "output_type": "execute_result"
    }
   ],
   "source": [
    "act_counts = Counter(act_bucket_list)\n",
    "act_counts.most_common(50)"
   ]
  },
  {
   "cell_type": "code",
   "execution_count": 16,
   "id": "bddd8add",
   "metadata": {
    "scrolled": true
   },
   "outputs": [
    {
     "data": {
      "text/plain": [
       "[('같은', 887),\n",
       " ('같음', 690),\n",
       " ('같은데', 649),\n",
       " ('있는', 612),\n",
       " ('아님', 511),\n",
       " ('입니다', 437),\n",
       " ('이런', 422),\n",
       " ('없는', 384),\n",
       " ('있음', 382),\n",
       " ('같아', 358),\n",
       " ('어떻게', 345),\n",
       " ('좋은', 339),\n",
       " ('아니라', 294),\n",
       " ('아니', 284),\n",
       " ('있다', 281),\n",
       " ('좋아', 279),\n",
       " ('있는데', 274),\n",
       " ('있어', 261),\n",
       " ('아니고', 250),\n",
       " ('솔직히', 241),\n",
       " ('좋다', 239),\n",
       " ('그런', 232),\n",
       " ('없음', 229),\n",
       " ('있고', 214),\n",
       " ('미', 208),\n",
       " ('아닌', 208),\n",
       " ('좋겠다', 207),\n",
       " ('같다', 192),\n",
       " ('그럼', 190),\n",
       " ('어떤', 187),\n",
       " ('좋아하는', 184),\n",
       " ('많은', 178),\n",
       " ('희', 175),\n",
       " ('아니면', 173),\n",
       " ('같아서', 172),\n",
       " ('없고', 169),\n",
       " ('미친', 167),\n",
       " ('같', 164),\n",
       " ('좋고', 163),\n",
       " ('좋음', 155),\n",
       " ('없는데', 153),\n",
       " ('좋', 151),\n",
       " ('같고', 149),\n",
       " ('아니냐', 145),\n",
       " ('없어', 140),\n",
       " ('없다', 138),\n",
       " ('없어서', 138),\n",
       " ('아닌데', 132),\n",
       " ('있었는데', 131),\n",
       " ('있어서', 129)]"
      ]
     },
     "execution_count": 16,
     "metadata": {},
     "output_type": "execute_result"
    }
   ],
   "source": [
    "community_counts = Counter(community_bucket_list)\n",
    "community_counts.most_common(50)"
   ]
  },
  {
   "cell_type": "code",
   "execution_count": 19,
   "id": "85186712",
   "metadata": {},
   "outputs": [],
   "source": [
    "# 상위 50개를 모두 불용어로 지정\n",
    "for stopword, _ in activation_counts.most_common(50):\n",
    "    stopwords.append(stopword)\n",
    "\n",
    "for stopword, _ in act_counts.most_common(50):\n",
    "    stopwords.append(stopword)\n",
    "\n",
    "for stopword, _ in community_counts.most_common(50):\n",
    "    stopwords.append(stopword)"
   ]
  },
  {
   "cell_type": "code",
   "execution_count": 20,
   "id": "b150ed59",
   "metadata": {
    "scrolled": true
   },
   "outputs": [
    {
     "data": {
      "text/plain": [
       "{'가난한',\n",
       " '강렬한',\n",
       " '강한',\n",
       " '같',\n",
       " '같고',\n",
       " '같다',\n",
       " '같아',\n",
       " '같아서',\n",
       " '같은',\n",
       " '같은데',\n",
       " '같음',\n",
       " '굉장히',\n",
       " '그러다',\n",
       " '그런',\n",
       " '그럼',\n",
       " '깊은',\n",
       " '꾸준히',\n",
       " '나쁜',\n",
       " '넘치는',\n",
       " '높은',\n",
       " '다양한',\n",
       " '따뜻한',\n",
       " '뛰어난',\n",
       " '많고',\n",
       " '많다',\n",
       " '많았다',\n",
       " '많은',\n",
       " '미',\n",
       " '미친',\n",
       " '상당한',\n",
       " '상당히',\n",
       " '새로운',\n",
       " '솔직히',\n",
       " '수많은',\n",
       " '수상하였다',\n",
       " '수상했다',\n",
       " '아니',\n",
       " '아니고',\n",
       " '아니냐',\n",
       " '아니다',\n",
       " '아니라',\n",
       " '아니면',\n",
       " '아닌',\n",
       " '아닌데',\n",
       " '아님',\n",
       " '아름다운',\n",
       " '아픈',\n",
       " '어떤',\n",
       " '어떻게',\n",
       " '엄청난',\n",
       " '없고',\n",
       " '없는',\n",
       " '없는데',\n",
       " '없다',\n",
       " '없어',\n",
       " '없어서',\n",
       " '없었다',\n",
       " '없을',\n",
       " '없음',\n",
       " '완벽한',\n",
       " '완전히',\n",
       " '우아한',\n",
       " '유명한',\n",
       " '유일한',\n",
       " '이런',\n",
       " '인해',\n",
       " '입니다',\n",
       " '있고',\n",
       " '있는',\n",
       " '있는데',\n",
       " '있다',\n",
       " '있다고',\n",
       " '있다는',\n",
       " '있던',\n",
       " '있어',\n",
       " '있어서',\n",
       " '있었는데',\n",
       " '있었다',\n",
       " '있었던',\n",
       " '있으며',\n",
       " '있을',\n",
       " '있음',\n",
       " '있지만',\n",
       " '작은',\n",
       " '젊은',\n",
       " '좋',\n",
       " '좋겠다',\n",
       " '좋고',\n",
       " '좋다',\n",
       " '좋아',\n",
       " '좋아하는',\n",
       " '좋은',\n",
       " '좋음',\n",
       " '중요한',\n",
       " '착하고',\n",
       " '평범한',\n",
       " '화려한',\n",
       " '희'}"
      ]
     },
     "execution_count": 20,
     "metadata": {},
     "output_type": "execute_result"
    }
   ],
   "source": [
    "# 선정된 불용어 확인\n",
    "stopwords = set(stopwords) # 중복 제거\n",
    "stopwords"
   ]
  },
  {
   "cell_type": "markdown",
   "id": "f4aad012",
   "metadata": {},
   "source": [
    "## 4. 형용사 추출 (불용어 제외)"
   ]
  },
  {
   "cell_type": "code",
   "execution_count": 36,
   "id": "7a78ca66",
   "metadata": {},
   "outputs": [],
   "source": [
    "# 형용사만 추출\n",
    "activation_total_keywords = []\n",
    "act_total_keywords = []\n",
    "community_total_keywords = []\n",
    "activation_bucket_list = []\n",
    "act_bucket_list = []\n",
    "community_bucket_list = []\n",
    "\n",
    "for activation in activation_tag:\n",
    "    for word, tag in activation:\n",
    "        if tag in ['Adjective']:\n",
    "            if word not in stopwords:\n",
    "                activation_bucket_list.append(word)\n",
    "    activation_bucket_list = list(set(activation_bucket_list))\n",
    "    activation_total_keywords.append(\", \".join(activation_bucket_list))\n",
    "\n",
    "for act in act_tag:\n",
    "    for word, tag in act:\n",
    "        if tag in ['Adjective']:\n",
    "            if word not in stopwords:\n",
    "                act_bucket_list.append(word)\n",
    "    act_bucket_list = list(set(act_bucket_list))\n",
    "    act_total_keywords.append(\", \".join(act_bucket_list))\n",
    "                \n",
    "for community in community_tag:\n",
    "    for word, tag in community:\n",
    "        if tag in ['Adjective']:\n",
    "            if word not in stopwords:\n",
    "                community_bucket_list.append(word)\n",
    "    community_bucket_list = list(set(community_bucket_list))\n",
    "    community_total_keywords.append(\", \".join(community_bucket_list))"
   ]
  },
  {
   "cell_type": "code",
   "execution_count": 39,
   "id": "e06e8f88",
   "metadata": {},
   "outputs": [],
   "source": [
    "# 키워드 합치기\n",
    "total_keywords = []\n",
    "\n",
    "for i in range(len(activation_total_keywords)):\n",
    "    add_list = activation_total_keywords[i] + act_total_keywords[i] + community_total_keywords[i]\n",
    "    total_keywords.append(add_list)"
   ]
  },
  {
   "cell_type": "code",
   "execution_count": 42,
   "id": "4021e7c4",
   "metadata": {},
   "outputs": [],
   "source": [
    "# 키워드 중복제거\n",
    "duplicate_total_keywords = []\n",
    "\n",
    "for i in range(len(total_keywords)):\n",
    "    tmp = total_keywords[i].split(', ')\n",
    "    tmp = list(set(tmp))\n",
    "    duplicate_total_keywords.append(', '.join(tmp))"
   ]
  },
  {
   "cell_type": "markdown",
   "id": "69b44bc9",
   "metadata": {},
   "source": [
    "## 5. 데이터 프레임에 합치기"
   ]
  },
  {
   "cell_type": "code",
   "execution_count": 45,
   "id": "cffee85f",
   "metadata": {
    "scrolled": true
   },
   "outputs": [
    {
     "data": {
      "text/html": [
       "<div>\n",
       "<style scoped>\n",
       "    .dataframe tbody tr th:only-of-type {\n",
       "        vertical-align: middle;\n",
       "    }\n",
       "\n",
       "    .dataframe tbody tr th {\n",
       "        vertical-align: top;\n",
       "    }\n",
       "\n",
       "    .dataframe thead th {\n",
       "        text-align: right;\n",
       "    }\n",
       "</style>\n",
       "<table border=\"1\" class=\"dataframe\">\n",
       "  <thead>\n",
       "    <tr style=\"text-align: right;\">\n",
       "      <th></th>\n",
       "      <th>Name</th>\n",
       "      <th>Age</th>\n",
       "      <th>Sex</th>\n",
       "      <th>수상내역</th>\n",
       "      <th>드라마활동</th>\n",
       "      <th>activation_content</th>\n",
       "      <th>사진url</th>\n",
       "      <th>배역내용</th>\n",
       "      <th>제목, 내용</th>\n",
       "      <th>keywords</th>\n",
       "    </tr>\n",
       "  </thead>\n",
       "  <tbody>\n",
       "    <tr>\n",
       "      <th>0</th>\n",
       "      <td>감우성</td>\n",
       "      <td>52</td>\n",
       "      <td>남</td>\n",
       "      <td>['2018 SBS 연기대상 대상', '2018 SBS 연기대상 베스트 커플상', ...</td>\n",
       "      <td>['바람이 분다/주연/권도훈 역/https://search.naver.com/sea...</td>\n",
       "      <td>기 공채 탤런트로 배우 생활을 시작했으며 동기로 한석규 박철 차광수 곽진영 김소이...</td>\n",
       "      <td>https://search.pstatic.net/common?type=b&amp;size=...</td>\n",
       "      <td>첫사랑 수진과 열렬한 연애 끝에 결혼까지 성공했다 남에게 피해 주지 않고 올곧고 바...</td>\n",
       "      <td>감우성 닮으면 잘생긴거냐내 친구 미용실가서 누나가 감우성 닮았다는데 잘생긴거냐 정우...</td>\n",
       "      <td>괜찮은, 예민함이, 있었네요, 작음, 그러겟지, 자유롭게, 당해서, 있나, 비슷해,...</td>\n",
       "    </tr>\n",
       "    <tr>\n",
       "      <th>1</th>\n",
       "      <td>강경준</td>\n",
       "      <td>39</td>\n",
       "      <td>남</td>\n",
       "      <td>['2017 MBC 연기대상 연속극부문 남자 우수연기상', '2004 MBC 방송연...</td>\n",
       "      <td>['별별 며느리/주연/최한주 역/https://search.naver.com/sea...</td>\n",
       "      <td>초등학교 시절에는 야구 중학교 시절에는 농구선수였었다 농구를 소재로 한 드라마 마지...</td>\n",
       "      <td>https://search.pstatic.net/common?type=b&amp;size=...</td>\n",
       "      <td>흙수저 아니 몸짱 얼짱 마음까지 짱인 태권도장 사범 얼굴만 봐도 신뢰감이 뚝뚝 묻어...</td>\n",
       "      <td>강경준  강 산  강승호네이름 두번이나 바꿨구나그러고보니 남다 딱 장신영강경준이랑 ...</td>\n",
       "      <td>이뻐, 괜찮은, 예민함이, 있었네요, 그러면서, 쿨한, 작음, 그러겟지, 자유롭게,...</td>\n",
       "    </tr>\n",
       "  </tbody>\n",
       "</table>\n",
       "</div>"
      ],
      "text/plain": [
       "  Name  Age Sex                                               수상내역  \\\n",
       "0  감우성   52   남  ['2018 SBS 연기대상 대상', '2018 SBS 연기대상 베스트 커플상', ...   \n",
       "1  강경준   39   남  ['2017 MBC 연기대상 연속극부문 남자 우수연기상', '2004 MBC 방송연...   \n",
       "\n",
       "                                               드라마활동  \\\n",
       "0  ['바람이 분다/주연/권도훈 역/https://search.naver.com/sea...   \n",
       "1  ['별별 며느리/주연/최한주 역/https://search.naver.com/sea...   \n",
       "\n",
       "                                  activation_content  \\\n",
       "0   기 공채 탤런트로 배우 생활을 시작했으며 동기로 한석규 박철 차광수 곽진영 김소이...   \n",
       "1  초등학교 시절에는 야구 중학교 시절에는 농구선수였었다 농구를 소재로 한 드라마 마지...   \n",
       "\n",
       "                                               사진url  \\\n",
       "0  https://search.pstatic.net/common?type=b&size=...   \n",
       "1  https://search.pstatic.net/common?type=b&size=...   \n",
       "\n",
       "                                                배역내용  \\\n",
       "0  첫사랑 수진과 열렬한 연애 끝에 결혼까지 성공했다 남에게 피해 주지 않고 올곧고 바...   \n",
       "1  흙수저 아니 몸짱 얼짱 마음까지 짱인 태권도장 사범 얼굴만 봐도 신뢰감이 뚝뚝 묻어...   \n",
       "\n",
       "                                              제목, 내용  \\\n",
       "0  감우성 닮으면 잘생긴거냐내 친구 미용실가서 누나가 감우성 닮았다는데 잘생긴거냐 정우...   \n",
       "1  강경준  강 산  강승호네이름 두번이나 바꿨구나그러고보니 남다 딱 장신영강경준이랑 ...   \n",
       "\n",
       "                                            keywords  \n",
       "0  괜찮은, 예민함이, 있었네요, 작음, 그러겟지, 자유롭게, 당해서, 있나, 비슷해,...  \n",
       "1  이뻐, 괜찮은, 예민함이, 있었네요, 그러면서, 쿨한, 작음, 그러겟지, 자유롭게,...  "
      ]
     },
     "execution_count": 45,
     "metadata": {},
     "output_type": "execute_result"
    }
   ],
   "source": [
    "actor_df['keywords'] = duplicate_total_keywords\n",
    "actor_df.head(2)"
   ]
  },
  {
   "cell_type": "markdown",
   "id": "71ad1ffd",
   "metadata": {},
   "source": [
    "## 6. 데이터 프레임 저장하기"
   ]
  },
  {
   "cell_type": "code",
   "execution_count": 47,
   "id": "d8572add",
   "metadata": {},
   "outputs": [],
   "source": [
    "actor_df.to_csv('../text_data/actor_data_keyword.csv', encoding='utf-8-sig', index=False)"
   ]
  }
 ],
 "metadata": {
  "kernelspec": {
   "display_name": "Python 3 (ipykernel)",
   "language": "python",
   "name": "python3"
  },
  "language_info": {
   "codemirror_mode": {
    "name": "ipython",
    "version": 3
   },
   "file_extension": ".py",
   "mimetype": "text/x-python",
   "name": "python",
   "nbconvert_exporter": "python",
   "pygments_lexer": "ipython3",
   "version": "3.8.12"
  }
 },
 "nbformat": 4,
 "nbformat_minor": 5
}
