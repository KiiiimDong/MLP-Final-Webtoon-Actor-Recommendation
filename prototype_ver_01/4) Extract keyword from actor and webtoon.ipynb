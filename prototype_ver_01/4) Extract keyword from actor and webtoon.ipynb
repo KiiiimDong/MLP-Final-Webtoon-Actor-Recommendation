{
 "cells": [
  {
   "cell_type": "markdown",
   "id": "4329c1a5",
   "metadata": {},
   "source": [
    "## 1. 패키지 로드"
   ]
  },
  {
   "cell_type": "code",
   "execution_count": 32,
   "id": "1a123fb5",
   "metadata": {},
   "outputs": [],
   "source": [
    "import pandas as pd\n",
    "import numpy as np\n",
    "import re\n",
    "from tqdm import tqdm_notebook"
   ]
  },
  {
   "cell_type": "code",
   "execution_count": 31,
   "id": "29b1593e",
   "metadata": {},
   "outputs": [],
   "source": [
    "from konlpy.tag import Okt\n",
    "from sklearn.feature_extraction.text import CountVectorizer\n",
    "from sklearn.metrics.pairwise import cosine_similarity\n",
    "from sentence_transformers import SentenceTransformer\n",
    "import itertools"
   ]
  },
  {
   "cell_type": "markdown",
   "id": "acbef5b6",
   "metadata": {},
   "source": [
    "## 2. 데이터 로드"
   ]
  },
  {
   "cell_type": "code",
   "execution_count": 2,
   "id": "512e1691",
   "metadata": {},
   "outputs": [],
   "source": [
    "actor_df = pd.read_csv('../text_data/actor_data_keyword.csv', encoding='utf-8-sig')\n",
    "webtoon_df = pd.read_csv('../text_data/webtoon_data_keyword.csv', encoding='utf-8-sig')"
   ]
  },
  {
   "cell_type": "markdown",
   "id": "517e931d",
   "metadata": {},
   "source": [
    "## 3. 데이터 전처리"
   ]
  },
  {
   "cell_type": "code",
   "execution_count": 3,
   "id": "e8ce1ef4",
   "metadata": {},
   "outputs": [
    {
     "data": {
      "text/html": [
       "<div>\n",
       "<style scoped>\n",
       "    .dataframe tbody tr th:only-of-type {\n",
       "        vertical-align: middle;\n",
       "    }\n",
       "\n",
       "    .dataframe tbody tr th {\n",
       "        vertical-align: top;\n",
       "    }\n",
       "\n",
       "    .dataframe thead th {\n",
       "        text-align: right;\n",
       "    }\n",
       "</style>\n",
       "<table border=\"1\" class=\"dataframe\">\n",
       "  <thead>\n",
       "    <tr style=\"text-align: right;\">\n",
       "      <th></th>\n",
       "      <th>Name</th>\n",
       "      <th>Age</th>\n",
       "      <th>Sex</th>\n",
       "      <th>수상내역</th>\n",
       "      <th>드라마활동</th>\n",
       "      <th>activation_content</th>\n",
       "      <th>사진url</th>\n",
       "      <th>배역내용</th>\n",
       "      <th>제목, 내용</th>\n",
       "      <th>keywords</th>\n",
       "    </tr>\n",
       "  </thead>\n",
       "  <tbody>\n",
       "    <tr>\n",
       "      <th>0</th>\n",
       "      <td>감우성</td>\n",
       "      <td>52</td>\n",
       "      <td>남</td>\n",
       "      <td>['2018 SBS 연기대상 대상', '2018 SBS 연기대상 베스트 커플상', ...</td>\n",
       "      <td>['바람이 분다/주연/권도훈 역/https://search.naver.com/sea...</td>\n",
       "      <td>기 공채 탤런트로 배우 생활을 시작했으며 동기로 한석규 박철 차광수 곽진영 김소이...</td>\n",
       "      <td>https://search.pstatic.net/common?type=b&amp;size=...</td>\n",
       "      <td>첫사랑 수진과 열렬한 연애 끝에 결혼까지 성공했다 남에게 피해 주지 않고 올곧고 바...</td>\n",
       "      <td>감우성 닮으면 잘생긴거냐내 친구 미용실가서 누나가 감우성 닮았다는데 잘생긴거냐 정우...</td>\n",
       "      <td>괜찮은, 예민함이, 있었네요, 작음, 그러겟지, 자유롭게, 당해서, 있나, 비슷해,...</td>\n",
       "    </tr>\n",
       "    <tr>\n",
       "      <th>1</th>\n",
       "      <td>강경준</td>\n",
       "      <td>39</td>\n",
       "      <td>남</td>\n",
       "      <td>['2017 MBC 연기대상 연속극부문 남자 우수연기상', '2004 MBC 방송연...</td>\n",
       "      <td>['별별 며느리/주연/최한주 역/https://search.naver.com/sea...</td>\n",
       "      <td>초등학교 시절에는 야구 중학교 시절에는 농구선수였었다 농구를 소재로 한 드라마 마지...</td>\n",
       "      <td>https://search.pstatic.net/common?type=b&amp;size=...</td>\n",
       "      <td>흙수저 아니 몸짱 얼짱 마음까지 짱인 태권도장 사범 얼굴만 봐도 신뢰감이 뚝뚝 묻어...</td>\n",
       "      <td>강경준  강 산  강승호네이름 두번이나 바꿨구나그러고보니 남다 딱 장신영강경준이랑 ...</td>\n",
       "      <td>이뻐, 괜찮은, 예민함이, 있었네요, 그러면서, 쿨한, 작음, 그러겟지, 자유롭게,...</td>\n",
       "    </tr>\n",
       "  </tbody>\n",
       "</table>\n",
       "</div>"
      ],
      "text/plain": [
       "  Name  Age Sex                                               수상내역  \\\n",
       "0  감우성   52   남  ['2018 SBS 연기대상 대상', '2018 SBS 연기대상 베스트 커플상', ...   \n",
       "1  강경준   39   남  ['2017 MBC 연기대상 연속극부문 남자 우수연기상', '2004 MBC 방송연...   \n",
       "\n",
       "                                               드라마활동  \\\n",
       "0  ['바람이 분다/주연/권도훈 역/https://search.naver.com/sea...   \n",
       "1  ['별별 며느리/주연/최한주 역/https://search.naver.com/sea...   \n",
       "\n",
       "                                  activation_content  \\\n",
       "0   기 공채 탤런트로 배우 생활을 시작했으며 동기로 한석규 박철 차광수 곽진영 김소이...   \n",
       "1  초등학교 시절에는 야구 중학교 시절에는 농구선수였었다 농구를 소재로 한 드라마 마지...   \n",
       "\n",
       "                                               사진url  \\\n",
       "0  https://search.pstatic.net/common?type=b&size=...   \n",
       "1  https://search.pstatic.net/common?type=b&size=...   \n",
       "\n",
       "                                                배역내용  \\\n",
       "0  첫사랑 수진과 열렬한 연애 끝에 결혼까지 성공했다 남에게 피해 주지 않고 올곧고 바...   \n",
       "1  흙수저 아니 몸짱 얼짱 마음까지 짱인 태권도장 사범 얼굴만 봐도 신뢰감이 뚝뚝 묻어...   \n",
       "\n",
       "                                              제목, 내용  \\\n",
       "0  감우성 닮으면 잘생긴거냐내 친구 미용실가서 누나가 감우성 닮았다는데 잘생긴거냐 정우...   \n",
       "1  강경준  강 산  강승호네이름 두번이나 바꿨구나그러고보니 남다 딱 장신영강경준이랑 ...   \n",
       "\n",
       "                                            keywords  \n",
       "0  괜찮은, 예민함이, 있었네요, 작음, 그러겟지, 자유롭게, 당해서, 있나, 비슷해,...  \n",
       "1  이뻐, 괜찮은, 예민함이, 있었네요, 그러면서, 쿨한, 작음, 그러겟지, 자유롭게,...  "
      ]
     },
     "execution_count": 3,
     "metadata": {},
     "output_type": "execute_result"
    }
   ],
   "source": [
    "actor_df.head(2)"
   ]
  },
  {
   "cell_type": "code",
   "execution_count": 4,
   "id": "f3feff1e",
   "metadata": {},
   "outputs": [
    {
     "data": {
      "text/html": [
       "<div>\n",
       "<style scoped>\n",
       "    .dataframe tbody tr th:only-of-type {\n",
       "        vertical-align: middle;\n",
       "    }\n",
       "\n",
       "    .dataframe tbody tr th {\n",
       "        vertical-align: top;\n",
       "    }\n",
       "\n",
       "    .dataframe thead th {\n",
       "        text-align: right;\n",
       "    }\n",
       "</style>\n",
       "<table border=\"1\" class=\"dataframe\">\n",
       "  <thead>\n",
       "    <tr style=\"text-align: right;\">\n",
       "      <th></th>\n",
       "      <th>Title</th>\n",
       "      <th>Character</th>\n",
       "      <th>Sex</th>\n",
       "      <th>Age</th>\n",
       "      <th>설명</th>\n",
       "      <th>keyword</th>\n",
       "    </tr>\n",
       "  </thead>\n",
       "  <tbody>\n",
       "    <tr>\n",
       "      <th>0</th>\n",
       "      <td>폭풍의전학생</td>\n",
       "      <td>주인공</td>\n",
       "      <td>남</td>\n",
       "      <td>10대</td>\n",
       "      <td>최완서를 얼굴에 니킥을 작렬시켜 한방에 보내버리고 정해인을 박치기 한다음에 머리를 ...</td>\n",
       "      <td>순전히, 있지만, 엄청난, 태연한, 뛰어난데, 가까운, 약해서, 진정한, 안되지만,...</td>\n",
       "    </tr>\n",
       "    <tr>\n",
       "      <th>1</th>\n",
       "      <td>폭풍의전학생</td>\n",
       "      <td>최완서</td>\n",
       "      <td>남</td>\n",
       "      <td>10대</td>\n",
       "      <td>전 3반짱. 묘한 색깔의 피부[7]와 부서진 콧잔등이 포인트. 전설의 레전드의 최대...</td>\n",
       "      <td>불쌍한, 멀쩡하던, 수많은, 자리는, 평범하다, 좋아하는, 아니며, 없으며, 강한,...</td>\n",
       "    </tr>\n",
       "  </tbody>\n",
       "</table>\n",
       "</div>"
      ],
      "text/plain": [
       "    Title Character Sex  Age  \\\n",
       "0  폭풍의전학생       주인공   남  10대   \n",
       "1  폭풍의전학생       최완서   남  10대   \n",
       "\n",
       "                                                  설명  \\\n",
       "0  최완서를 얼굴에 니킥을 작렬시켜 한방에 보내버리고 정해인을 박치기 한다음에 머리를 ...   \n",
       "1  전 3반짱. 묘한 색깔의 피부[7]와 부서진 콧잔등이 포인트. 전설의 레전드의 최대...   \n",
       "\n",
       "                                             keyword  \n",
       "0  순전히, 있지만, 엄청난, 태연한, 뛰어난데, 가까운, 약해서, 진정한, 안되지만,...  \n",
       "1  불쌍한, 멀쩡하던, 수많은, 자리는, 평범하다, 좋아하는, 아니며, 없으며, 강한,...  "
      ]
     },
     "execution_count": 4,
     "metadata": {},
     "output_type": "execute_result"
    }
   ],
   "source": [
    "webtoon_df.head(2)"
   ]
  },
  {
   "cell_type": "markdown",
   "id": "11a60704",
   "metadata": {},
   "source": [
    "### 1) actor data : Name, Age, Sex, activation_content, 배역내용, 제목, 내용, keywords만 가져온 데이터 프레임 생성"
   ]
  },
  {
   "cell_type": "code",
   "execution_count": 7,
   "id": "27da586f",
   "metadata": {},
   "outputs": [],
   "source": [
    "actor_df = actor_df[['Name', 'Age', 'Sex', 'activation_content', '배역내용', '제목, 내용', 'keywords']]"
   ]
  },
  {
   "cell_type": "code",
   "execution_count": 8,
   "id": "02c35064",
   "metadata": {},
   "outputs": [
    {
     "data": {
      "text/html": [
       "<div>\n",
       "<style scoped>\n",
       "    .dataframe tbody tr th:only-of-type {\n",
       "        vertical-align: middle;\n",
       "    }\n",
       "\n",
       "    .dataframe tbody tr th {\n",
       "        vertical-align: top;\n",
       "    }\n",
       "\n",
       "    .dataframe thead th {\n",
       "        text-align: right;\n",
       "    }\n",
       "</style>\n",
       "<table border=\"1\" class=\"dataframe\">\n",
       "  <thead>\n",
       "    <tr style=\"text-align: right;\">\n",
       "      <th></th>\n",
       "      <th>Name</th>\n",
       "      <th>Age</th>\n",
       "      <th>Sex</th>\n",
       "      <th>activation_content</th>\n",
       "      <th>배역내용</th>\n",
       "      <th>제목, 내용</th>\n",
       "      <th>keywords</th>\n",
       "    </tr>\n",
       "  </thead>\n",
       "  <tbody>\n",
       "    <tr>\n",
       "      <th>0</th>\n",
       "      <td>감우성</td>\n",
       "      <td>52</td>\n",
       "      <td>남</td>\n",
       "      <td>기 공채 탤런트로 배우 생활을 시작했으며 동기로 한석규 박철 차광수 곽진영 김소이...</td>\n",
       "      <td>첫사랑 수진과 열렬한 연애 끝에 결혼까지 성공했다 남에게 피해 주지 않고 올곧고 바...</td>\n",
       "      <td>감우성 닮으면 잘생긴거냐내 친구 미용실가서 누나가 감우성 닮았다는데 잘생긴거냐 정우...</td>\n",
       "      <td>괜찮은, 예민함이, 있었네요, 작음, 그러겟지, 자유롭게, 당해서, 있나, 비슷해,...</td>\n",
       "    </tr>\n",
       "    <tr>\n",
       "      <th>1</th>\n",
       "      <td>강경준</td>\n",
       "      <td>39</td>\n",
       "      <td>남</td>\n",
       "      <td>초등학교 시절에는 야구 중학교 시절에는 농구선수였었다 농구를 소재로 한 드라마 마지...</td>\n",
       "      <td>흙수저 아니 몸짱 얼짱 마음까지 짱인 태권도장 사범 얼굴만 봐도 신뢰감이 뚝뚝 묻어...</td>\n",
       "      <td>강경준  강 산  강승호네이름 두번이나 바꿨구나그러고보니 남다 딱 장신영강경준이랑 ...</td>\n",
       "      <td>이뻐, 괜찮은, 예민함이, 있었네요, 그러면서, 쿨한, 작음, 그러겟지, 자유롭게,...</td>\n",
       "    </tr>\n",
       "  </tbody>\n",
       "</table>\n",
       "</div>"
      ],
      "text/plain": [
       "  Name  Age Sex                                 activation_content  \\\n",
       "0  감우성   52   남   기 공채 탤런트로 배우 생활을 시작했으며 동기로 한석규 박철 차광수 곽진영 김소이...   \n",
       "1  강경준   39   남  초등학교 시절에는 야구 중학교 시절에는 농구선수였었다 농구를 소재로 한 드라마 마지...   \n",
       "\n",
       "                                                배역내용  \\\n",
       "0  첫사랑 수진과 열렬한 연애 끝에 결혼까지 성공했다 남에게 피해 주지 않고 올곧고 바...   \n",
       "1  흙수저 아니 몸짱 얼짱 마음까지 짱인 태권도장 사범 얼굴만 봐도 신뢰감이 뚝뚝 묻어...   \n",
       "\n",
       "                                              제목, 내용  \\\n",
       "0  감우성 닮으면 잘생긴거냐내 친구 미용실가서 누나가 감우성 닮았다는데 잘생긴거냐 정우...   \n",
       "1  강경준  강 산  강승호네이름 두번이나 바꿨구나그러고보니 남다 딱 장신영강경준이랑 ...   \n",
       "\n",
       "                                            keywords  \n",
       "0  괜찮은, 예민함이, 있었네요, 작음, 그러겟지, 자유롭게, 당해서, 있나, 비슷해,...  \n",
       "1  이뻐, 괜찮은, 예민함이, 있었네요, 그러면서, 쿨한, 작음, 그러겟지, 자유롭게,...  "
      ]
     },
     "execution_count": 8,
     "metadata": {},
     "output_type": "execute_result"
    }
   ],
   "source": [
    "actor_df.head(2)"
   ]
  },
  {
   "cell_type": "markdown",
   "id": "562dfc79",
   "metadata": {},
   "source": [
    "### 2) activation_content, 배역내용, 제목, 내용 합쳐서 새로운 columns 생성"
   ]
  },
  {
   "cell_type": "code",
   "execution_count": 18,
   "id": "d23ee9e0",
   "metadata": {},
   "outputs": [],
   "source": [
    "# 전체 내용을 담을 list\n",
    "actor_content_list = []\n",
    "\n",
    "# 각 columns의 내용이 담긴 리스트 생성\n",
    "activation_list = actor_df['activation_content'].to_list()\n",
    "act_list = actor_df['배역내용'].to_list()\n",
    "community_list = actor_df['제목, 내용'].to_list()"
   ]
  },
  {
   "cell_type": "code",
   "execution_count": 19,
   "id": "b136fcbb",
   "metadata": {},
   "outputs": [],
   "source": [
    "# 합치기\n",
    "for i in range(len(activation_list)):\n",
    "    actor_content_list.append(activation_list[i] + act_list[i] + community_list[i])"
   ]
  },
  {
   "cell_type": "code",
   "execution_count": 21,
   "id": "68ee492a",
   "metadata": {},
   "outputs": [],
   "source": [
    "# 새로운 columns 생성\n",
    "actor_df['content'] = actor_content_list"
   ]
  },
  {
   "cell_type": "code",
   "execution_count": 22,
   "id": "198530a6",
   "metadata": {},
   "outputs": [
    {
     "data": {
      "text/html": [
       "<div>\n",
       "<style scoped>\n",
       "    .dataframe tbody tr th:only-of-type {\n",
       "        vertical-align: middle;\n",
       "    }\n",
       "\n",
       "    .dataframe tbody tr th {\n",
       "        vertical-align: top;\n",
       "    }\n",
       "\n",
       "    .dataframe thead th {\n",
       "        text-align: right;\n",
       "    }\n",
       "</style>\n",
       "<table border=\"1\" class=\"dataframe\">\n",
       "  <thead>\n",
       "    <tr style=\"text-align: right;\">\n",
       "      <th></th>\n",
       "      <th>Name</th>\n",
       "      <th>Age</th>\n",
       "      <th>Sex</th>\n",
       "      <th>activation_content</th>\n",
       "      <th>배역내용</th>\n",
       "      <th>제목, 내용</th>\n",
       "      <th>keywords</th>\n",
       "      <th>content</th>\n",
       "    </tr>\n",
       "  </thead>\n",
       "  <tbody>\n",
       "    <tr>\n",
       "      <th>0</th>\n",
       "      <td>감우성</td>\n",
       "      <td>52</td>\n",
       "      <td>남</td>\n",
       "      <td>기 공채 탤런트로 배우 생활을 시작했으며 동기로 한석규 박철 차광수 곽진영 김소이...</td>\n",
       "      <td>첫사랑 수진과 열렬한 연애 끝에 결혼까지 성공했다 남에게 피해 주지 않고 올곧고 바...</td>\n",
       "      <td>감우성 닮으면 잘생긴거냐내 친구 미용실가서 누나가 감우성 닮았다는데 잘생긴거냐 정우...</td>\n",
       "      <td>괜찮은, 예민함이, 있었네요, 작음, 그러겟지, 자유롭게, 당해서, 있나, 비슷해,...</td>\n",
       "      <td>기 공채 탤런트로 배우 생활을 시작했으며 동기로 한석규 박철 차광수 곽진영 김소이...</td>\n",
       "    </tr>\n",
       "    <tr>\n",
       "      <th>1</th>\n",
       "      <td>강경준</td>\n",
       "      <td>39</td>\n",
       "      <td>남</td>\n",
       "      <td>초등학교 시절에는 야구 중학교 시절에는 농구선수였었다 농구를 소재로 한 드라마 마지...</td>\n",
       "      <td>흙수저 아니 몸짱 얼짱 마음까지 짱인 태권도장 사범 얼굴만 봐도 신뢰감이 뚝뚝 묻어...</td>\n",
       "      <td>강경준  강 산  강승호네이름 두번이나 바꿨구나그러고보니 남다 딱 장신영강경준이랑 ...</td>\n",
       "      <td>이뻐, 괜찮은, 예민함이, 있었네요, 그러면서, 쿨한, 작음, 그러겟지, 자유롭게,...</td>\n",
       "      <td>초등학교 시절에는 야구 중학교 시절에는 농구선수였었다 농구를 소재로 한 드라마 마지...</td>\n",
       "    </tr>\n",
       "  </tbody>\n",
       "</table>\n",
       "</div>"
      ],
      "text/plain": [
       "  Name  Age Sex                                 activation_content  \\\n",
       "0  감우성   52   남   기 공채 탤런트로 배우 생활을 시작했으며 동기로 한석규 박철 차광수 곽진영 김소이...   \n",
       "1  강경준   39   남  초등학교 시절에는 야구 중학교 시절에는 농구선수였었다 농구를 소재로 한 드라마 마지...   \n",
       "\n",
       "                                                배역내용  \\\n",
       "0  첫사랑 수진과 열렬한 연애 끝에 결혼까지 성공했다 남에게 피해 주지 않고 올곧고 바...   \n",
       "1  흙수저 아니 몸짱 얼짱 마음까지 짱인 태권도장 사범 얼굴만 봐도 신뢰감이 뚝뚝 묻어...   \n",
       "\n",
       "                                              제목, 내용  \\\n",
       "0  감우성 닮으면 잘생긴거냐내 친구 미용실가서 누나가 감우성 닮았다는데 잘생긴거냐 정우...   \n",
       "1  강경준  강 산  강승호네이름 두번이나 바꿨구나그러고보니 남다 딱 장신영강경준이랑 ...   \n",
       "\n",
       "                                            keywords  \\\n",
       "0  괜찮은, 예민함이, 있었네요, 작음, 그러겟지, 자유롭게, 당해서, 있나, 비슷해,...   \n",
       "1  이뻐, 괜찮은, 예민함이, 있었네요, 그러면서, 쿨한, 작음, 그러겟지, 자유롭게,...   \n",
       "\n",
       "                                             content  \n",
       "0   기 공채 탤런트로 배우 생활을 시작했으며 동기로 한석규 박철 차광수 곽진영 김소이...  \n",
       "1  초등학교 시절에는 야구 중학교 시절에는 농구선수였었다 농구를 소재로 한 드라마 마지...  "
      ]
     },
     "execution_count": 22,
     "metadata": {},
     "output_type": "execute_result"
    }
   ],
   "source": [
    "# 확인\n",
    "actor_df.head(2)"
   ]
  },
  {
   "cell_type": "code",
   "execution_count": 24,
   "id": "06c06ba2",
   "metadata": {},
   "outputs": [],
   "source": [
    "# 필요없는 columns를 제거한 DataFrame 생성\n",
    "actor_df = actor_df[['Name', 'Age', 'Sex', 'content', 'keywords']]"
   ]
  },
  {
   "cell_type": "code",
   "execution_count": 27,
   "id": "63b50c97",
   "metadata": {},
   "outputs": [
    {
     "data": {
      "text/html": [
       "<div>\n",
       "<style scoped>\n",
       "    .dataframe tbody tr th:only-of-type {\n",
       "        vertical-align: middle;\n",
       "    }\n",
       "\n",
       "    .dataframe tbody tr th {\n",
       "        vertical-align: top;\n",
       "    }\n",
       "\n",
       "    .dataframe thead th {\n",
       "        text-align: right;\n",
       "    }\n",
       "</style>\n",
       "<table border=\"1\" class=\"dataframe\">\n",
       "  <thead>\n",
       "    <tr style=\"text-align: right;\">\n",
       "      <th></th>\n",
       "      <th>Name</th>\n",
       "      <th>Age</th>\n",
       "      <th>Sex</th>\n",
       "      <th>content</th>\n",
       "      <th>keywords</th>\n",
       "    </tr>\n",
       "  </thead>\n",
       "  <tbody>\n",
       "    <tr>\n",
       "      <th>0</th>\n",
       "      <td>감우성</td>\n",
       "      <td>52</td>\n",
       "      <td>남</td>\n",
       "      <td>기 공채 탤런트로 배우 생활을 시작했으며 동기로 한석규 박철 차광수 곽진영 김소이...</td>\n",
       "      <td>괜찮은, 예민함이, 있었네요, 작음, 그러겟지, 자유롭게, 당해서, 있나, 비슷해,...</td>\n",
       "    </tr>\n",
       "    <tr>\n",
       "      <th>1</th>\n",
       "      <td>강경준</td>\n",
       "      <td>39</td>\n",
       "      <td>남</td>\n",
       "      <td>초등학교 시절에는 야구 중학교 시절에는 농구선수였었다 농구를 소재로 한 드라마 마지...</td>\n",
       "      <td>이뻐, 괜찮은, 예민함이, 있었네요, 그러면서, 쿨한, 작음, 그러겟지, 자유롭게,...</td>\n",
       "    </tr>\n",
       "  </tbody>\n",
       "</table>\n",
       "</div>"
      ],
      "text/plain": [
       "  Name  Age Sex                                            content  \\\n",
       "0  감우성   52   남   기 공채 탤런트로 배우 생활을 시작했으며 동기로 한석규 박철 차광수 곽진영 김소이...   \n",
       "1  강경준   39   남  초등학교 시절에는 야구 중학교 시절에는 농구선수였었다 농구를 소재로 한 드라마 마지...   \n",
       "\n",
       "                                            keywords  \n",
       "0  괜찮은, 예민함이, 있었네요, 작음, 그러겟지, 자유롭게, 당해서, 있나, 비슷해,...  \n",
       "1  이뻐, 괜찮은, 예민함이, 있었네요, 그러면서, 쿨한, 작음, 그러겟지, 자유롭게,...  "
      ]
     },
     "execution_count": 27,
     "metadata": {},
     "output_type": "execute_result"
    }
   ],
   "source": [
    "# 확인\n",
    "actor_df.head(2)"
   ]
  },
  {
   "cell_type": "markdown",
   "id": "7b405d39",
   "metadata": {},
   "source": [
    "## 4. 키워드 추출"
   ]
  },
  {
   "cell_type": "markdown",
   "id": "ccce980c",
   "metadata": {},
   "source": [
    "### 1) 모델 로드"
   ]
  },
  {
   "cell_type": "code",
   "execution_count": 26,
   "id": "72616cbb",
   "metadata": {
    "scrolled": true
   },
   "outputs": [
    {
     "data": {
      "application/vnd.jupyter.widget-view+json": {
       "model_id": "859741b9c67840b8b8d1f4ed305c652e",
       "version_major": 2,
       "version_minor": 0
      },
      "text/plain": [
       "Downloading:   0%|          | 0.00/574 [00:00<?, ?B/s]"
      ]
     },
     "metadata": {},
     "output_type": "display_data"
    },
    {
     "data": {
      "application/vnd.jupyter.widget-view+json": {
       "model_id": "be9416ba32224836bacdd969f2c6cc9d",
       "version_major": 2,
       "version_minor": 0
      },
      "text/plain": [
       "Downloading:   0%|          | 0.00/190 [00:00<?, ?B/s]"
      ]
     },
     "metadata": {},
     "output_type": "display_data"
    },
    {
     "data": {
      "application/vnd.jupyter.widget-view+json": {
       "model_id": "5cb8e651597a4859b92f99f5d43da25e",
       "version_major": 2,
       "version_minor": 0
      },
      "text/plain": [
       "Downloading:   0%|          | 0.00/4.06k [00:00<?, ?B/s]"
      ]
     },
     "metadata": {},
     "output_type": "display_data"
    },
    {
     "data": {
      "application/vnd.jupyter.widget-view+json": {
       "model_id": "e0097bd07d7b43469ec053d4b1e0b47b",
       "version_major": 2,
       "version_minor": 0
      },
      "text/plain": [
       "Downloading:   0%|          | 0.00/731 [00:00<?, ?B/s]"
      ]
     },
     "metadata": {},
     "output_type": "display_data"
    },
    {
     "data": {
      "application/vnd.jupyter.widget-view+json": {
       "model_id": "e1a173b63eb74273890c93456db836a8",
       "version_major": 2,
       "version_minor": 0
      },
      "text/plain": [
       "Downloading:   0%|          | 0.00/122 [00:00<?, ?B/s]"
      ]
     },
     "metadata": {},
     "output_type": "display_data"
    },
    {
     "data": {
      "application/vnd.jupyter.widget-view+json": {
       "model_id": "8de7dd3040ea44dfacdfb90a3f9356fd",
       "version_major": 2,
       "version_minor": 0
      },
      "text/plain": [
       "Downloading:   0%|          | 0.00/1.11G [00:00<?, ?B/s]"
      ]
     },
     "metadata": {},
     "output_type": "display_data"
    },
    {
     "data": {
      "application/vnd.jupyter.widget-view+json": {
       "model_id": "fa054d9caf924d909badd89e0cc49890",
       "version_major": 2,
       "version_minor": 0
      },
      "text/plain": [
       "Downloading:   0%|          | 0.00/53.0 [00:00<?, ?B/s]"
      ]
     },
     "metadata": {},
     "output_type": "display_data"
    },
    {
     "data": {
      "application/vnd.jupyter.widget-view+json": {
       "model_id": "d3f60bde12594a23a1c239cd9377b4ac",
       "version_major": 2,
       "version_minor": 0
      },
      "text/plain": [
       "Downloading:   0%|          | 0.00/5.07M [00:00<?, ?B/s]"
      ]
     },
     "metadata": {},
     "output_type": "display_data"
    },
    {
     "data": {
      "application/vnd.jupyter.widget-view+json": {
       "model_id": "8370ca768d4e46d6b9f162082387d8d4",
       "version_major": 2,
       "version_minor": 0
      },
      "text/plain": [
       "Downloading:   0%|          | 0.00/150 [00:00<?, ?B/s]"
      ]
     },
     "metadata": {},
     "output_type": "display_data"
    },
    {
     "data": {
      "application/vnd.jupyter.widget-view+json": {
       "model_id": "775dfe33fdd246838659be392e1653b2",
       "version_major": 2,
       "version_minor": 0
      },
      "text/plain": [
       "Downloading:   0%|          | 0.00/9.10M [00:00<?, ?B/s]"
      ]
     },
     "metadata": {},
     "output_type": "display_data"
    },
    {
     "data": {
      "application/vnd.jupyter.widget-view+json": {
       "model_id": "bc2bcf241c2446c3b4113634245a07f7",
       "version_major": 2,
       "version_minor": 0
      },
      "text/plain": [
       "Downloading:   0%|          | 0.00/527 [00:00<?, ?B/s]"
      ]
     },
     "metadata": {},
     "output_type": "display_data"
    },
    {
     "data": {
      "application/vnd.jupyter.widget-view+json": {
       "model_id": "8e5ac464ede244cd981e5605cb2db053",
       "version_major": 2,
       "version_minor": 0
      },
      "text/plain": [
       "Downloading:   0%|          | 0.00/229 [00:00<?, ?B/s]"
      ]
     },
     "metadata": {},
     "output_type": "display_data"
    }
   ],
   "source": [
    "model = SentenceTransformer('sentence-transformers/xlm-r-100langs-bert-base-nli-stsb-mean-tokens')"
   ]
  },
  {
   "cell_type": "markdown",
   "id": "2b8d8e92",
   "metadata": {},
   "source": [
    "### 2) 임베딩과 키워드 top5 추출"
   ]
  },
  {
   "cell_type": "markdown",
   "id": "4ce1f613",
   "metadata": {},
   "source": [
    "### (1) 배우 키워드 추출"
   ]
  },
  {
   "cell_type": "code",
   "execution_count": 29,
   "id": "97f1b998",
   "metadata": {},
   "outputs": [],
   "source": [
    "# Nax Sum Similarity 함수 정의\n",
    "def max_sum_sim(doc_embedding, candidate_embeddings, words, top_n, nr_candidates):\n",
    "    # 문서와 각 키워드들 간의 유사도\n",
    "    distances = cosine_similarity(doc_embedding, candidate_embeddings)\n",
    "\n",
    "    # 각 키워드들 간의 유사도\n",
    "    distances_candidates = cosine_similarity(candidate_embeddings, \n",
    "                                            candidate_embeddings)\n",
    "\n",
    "    # 코사인 유사도에 기반하여 키워드들 중 상위 top_n개의 단어를 pick.\n",
    "    words_idx = list(distances.argsort()[0][-nr_candidates:])\n",
    "    words_vals = [words[index] for index in words_idx]\n",
    "    distances_candidates = distances_candidates[np.ix_(words_idx, words_idx)]\n",
    "\n",
    "    # 각 키워드들 중에서 가장 덜 유사한 키워드들간의 조합을 계산\n",
    "    min_sim = np.inf\n",
    "    candidate = None\n",
    "    for combination in itertools.combinations(range(len(words_idx)), top_n):\n",
    "        sim = sum([distances_candidates[i][j] for i in combination for j in combination if i != j])\n",
    "        if sim < min_sim:\n",
    "            candidate = combination\n",
    "            min_sim = sim\n",
    "\n",
    "    return [words_vals[idx] for idx in candidate]"
   ]
  },
  {
   "cell_type": "code",
   "execution_count": 28,
   "id": "196f7552",
   "metadata": {},
   "outputs": [],
   "source": [
    "# 배우 내용과 형용사 가져오기\n",
    "actor_content_list = actor_df['content'].to_list()\n",
    "actor_adjective_list = []\n",
    "\n",
    "for i in actor_df['keywords']:\n",
    "    actor_adjective_list.append(i.split(', '))"
   ]
  },
  {
   "cell_type": "code",
   "execution_count": 34,
   "id": "585ca804",
   "metadata": {},
   "outputs": [
    {
     "name": "stderr",
     "output_type": "stream",
     "text": [
      "/tmp/ipykernel_4312/622855675.py:4: TqdmDeprecationWarning: This function will be removed in tqdm==5.0.0\n",
      "Please use `tqdm.notebook.tqdm` instead of `tqdm.tqdm_notebook`\n",
      "  for i in tqdm_notebook(range(len(actor_content_list))):\n"
     ]
    },
    {
     "data": {
      "application/vnd.jupyter.widget-view+json": {
       "model_id": "f0ae7a31b8764bb28426c7cdf5321b6e",
       "version_major": 2,
       "version_minor": 0
      },
      "text/plain": [
       "  0%|          | 0/252 [00:00<?, ?it/s]"
      ]
     },
     "metadata": {},
     "output_type": "display_data"
    }
   ],
   "source": [
    "# 배우 키워드 추출\n",
    "keywords = []\n",
    "\n",
    "for i in tqdm_notebook(range(len(actor_content_list))):\n",
    "    # 임베딩\n",
    "    doc_embedding = model.encode([actor_content_list[i]])\n",
    "    candidate_embeddings = model.encode(actor_adjective_list[i])\n",
    "    \n",
    "    # keyword 추출\n",
    "    keyword = max_sum_sim(doc_embedding, candidate_embeddings, actor_adjective_list[i], 5, 10)\n",
    "    keywords.append(\", \".join(keyword))"
   ]
  },
  {
   "cell_type": "code",
   "execution_count": 35,
   "id": "ce6ca0c0",
   "metadata": {},
   "outputs": [
    {
     "data": {
      "text/html": [
       "<div>\n",
       "<style scoped>\n",
       "    .dataframe tbody tr th:only-of-type {\n",
       "        vertical-align: middle;\n",
       "    }\n",
       "\n",
       "    .dataframe tbody tr th {\n",
       "        vertical-align: top;\n",
       "    }\n",
       "\n",
       "    .dataframe thead th {\n",
       "        text-align: right;\n",
       "    }\n",
       "</style>\n",
       "<table border=\"1\" class=\"dataframe\">\n",
       "  <thead>\n",
       "    <tr style=\"text-align: right;\">\n",
       "      <th></th>\n",
       "      <th>Name</th>\n",
       "      <th>Age</th>\n",
       "      <th>Sex</th>\n",
       "      <th>content</th>\n",
       "      <th>keywords</th>\n",
       "      <th>5_keywords</th>\n",
       "    </tr>\n",
       "  </thead>\n",
       "  <tbody>\n",
       "    <tr>\n",
       "      <th>0</th>\n",
       "      <td>감우성</td>\n",
       "      <td>52</td>\n",
       "      <td>남</td>\n",
       "      <td>기 공채 탤런트로 배우 생활을 시작했으며 동기로 한석규 박철 차광수 곽진영 김소이...</td>\n",
       "      <td>괜찮은, 예민함이, 있었네요, 작음, 그러겟지, 자유롭게, 당해서, 있나, 비슷해,...</td>\n",
       "      <td>성장해, 부답인, 쎄냐고, 좋아하는데, 좋아했는데</td>\n",
       "    </tr>\n",
       "    <tr>\n",
       "      <th>1</th>\n",
       "      <td>강경준</td>\n",
       "      <td>39</td>\n",
       "      <td>남</td>\n",
       "      <td>초등학교 시절에는 야구 중학교 시절에는 농구선수였었다 농구를 소재로 한 드라마 마지...</td>\n",
       "      <td>이뻐, 괜찮은, 예민함이, 있었네요, 그러면서, 쿨한, 작음, 그러겟지, 자유롭게,...</td>\n",
       "      <td>당해서, 좋아해요, 재미있게, 불쌍해서, 좋아하는데</td>\n",
       "    </tr>\n",
       "  </tbody>\n",
       "</table>\n",
       "</div>"
      ],
      "text/plain": [
       "  Name  Age Sex                                            content  \\\n",
       "0  감우성   52   남   기 공채 탤런트로 배우 생활을 시작했으며 동기로 한석규 박철 차광수 곽진영 김소이...   \n",
       "1  강경준   39   남  초등학교 시절에는 야구 중학교 시절에는 농구선수였었다 농구를 소재로 한 드라마 마지...   \n",
       "\n",
       "                                            keywords  \\\n",
       "0  괜찮은, 예민함이, 있었네요, 작음, 그러겟지, 자유롭게, 당해서, 있나, 비슷해,...   \n",
       "1  이뻐, 괜찮은, 예민함이, 있었네요, 그러면서, 쿨한, 작음, 그러겟지, 자유롭게,...   \n",
       "\n",
       "                     5_keywords  \n",
       "0   성장해, 부답인, 쎄냐고, 좋아하는데, 좋아했는데  \n",
       "1  당해서, 좋아해요, 재미있게, 불쌍해서, 좋아하는데  "
      ]
     },
     "execution_count": 35,
     "metadata": {},
     "output_type": "execute_result"
    }
   ],
   "source": [
    "# keyword columns 생성\n",
    "actor_df['5_keywords'] = keywords\n",
    "actor_df.head(2)"
   ]
  },
  {
   "cell_type": "code",
   "execution_count": 37,
   "id": "bf9b08de",
   "metadata": {},
   "outputs": [
    {
     "data": {
      "text/html": [
       "<div>\n",
       "<style scoped>\n",
       "    .dataframe tbody tr th:only-of-type {\n",
       "        vertical-align: middle;\n",
       "    }\n",
       "\n",
       "    .dataframe tbody tr th {\n",
       "        vertical-align: top;\n",
       "    }\n",
       "\n",
       "    .dataframe thead th {\n",
       "        text-align: right;\n",
       "    }\n",
       "</style>\n",
       "<table border=\"1\" class=\"dataframe\">\n",
       "  <thead>\n",
       "    <tr style=\"text-align: right;\">\n",
       "      <th></th>\n",
       "      <th>Name</th>\n",
       "      <th>Age</th>\n",
       "      <th>Sex</th>\n",
       "      <th>5_keywords</th>\n",
       "    </tr>\n",
       "  </thead>\n",
       "  <tbody>\n",
       "    <tr>\n",
       "      <th>0</th>\n",
       "      <td>감우성</td>\n",
       "      <td>52</td>\n",
       "      <td>남</td>\n",
       "      <td>성장해, 부답인, 쎄냐고, 좋아하는데, 좋아했는데</td>\n",
       "    </tr>\n",
       "    <tr>\n",
       "      <th>1</th>\n",
       "      <td>강경준</td>\n",
       "      <td>39</td>\n",
       "      <td>남</td>\n",
       "      <td>당해서, 좋아해요, 재미있게, 불쌍해서, 좋아하는데</td>\n",
       "    </tr>\n",
       "  </tbody>\n",
       "</table>\n",
       "</div>"
      ],
      "text/plain": [
       "  Name  Age Sex                    5_keywords\n",
       "0  감우성   52   남   성장해, 부답인, 쎄냐고, 좋아하는데, 좋아했는데\n",
       "1  강경준   39   남  당해서, 좋아해요, 재미있게, 불쌍해서, 좋아하는데"
      ]
     },
     "execution_count": 37,
     "metadata": {},
     "output_type": "execute_result"
    }
   ],
   "source": [
    "# Name, Age, Sex, 5_keywords columns 만 가지는 새로운 데이터 프레임 생성\n",
    "actor_df = actor_df[['Name', 'Age', 'Sex', '5_keywords']]\n",
    "actor_df.head(2)"
   ]
  },
  {
   "cell_type": "code",
   "execution_count": 47,
   "id": "6eb84ff8",
   "metadata": {},
   "outputs": [],
   "source": [
    "# 데이터 프레임 저장\n",
    "actor_df.to_csv('../text_data/actor_keywords.csv', encoding='utf-8-sig', index=False)"
   ]
  },
  {
   "cell_type": "markdown",
   "id": "dc6d940d",
   "metadata": {},
   "source": [
    "### (2) 웹툰 키워드 추출"
   ]
  },
  {
   "cell_type": "code",
   "execution_count": 62,
   "id": "1b9c7634",
   "metadata": {},
   "outputs": [],
   "source": [
    "# null 값 정리\n",
    "webtoon_df = webtoon_df.dropna().reset_index(drop=True)"
   ]
  },
  {
   "cell_type": "code",
   "execution_count": 63,
   "id": "2720d0d5",
   "metadata": {},
   "outputs": [],
   "source": [
    "# 웹툰 등장인물 내용과 형용사 가져오기\n",
    "webtoon_content_list = webtoon_df['설명'].to_list()\n",
    "webtoon_adjective_list = []\n",
    "\n",
    "for adjective in webtoon_df['keyword']:\n",
    "    webtoon_adjective_list.append(adjective.split(', '))"
   ]
  },
  {
   "cell_type": "code",
   "execution_count": 68,
   "id": "16dcd08c",
   "metadata": {},
   "outputs": [
    {
     "name": "stderr",
     "output_type": "stream",
     "text": [
      "/tmp/ipykernel_4312/2092822361.py:4: TqdmDeprecationWarning: This function will be removed in tqdm==5.0.0\n",
      "Please use `tqdm.notebook.tqdm` instead of `tqdm.tqdm_notebook`\n",
      "  for i in tqdm_notebook(range(len(webtoon_content_list))):\n"
     ]
    },
    {
     "data": {
      "application/vnd.jupyter.widget-view+json": {
       "model_id": "712e1912565d410ebc62c30314792a52",
       "version_major": 2,
       "version_minor": 0
      },
      "text/plain": [
       "  0%|          | 0/511 [00:00<?, ?it/s]"
      ]
     },
     "metadata": {},
     "output_type": "display_data"
    }
   ],
   "source": [
    "# 웹툰 키워드 추출\n",
    "keywords = []\n",
    "\n",
    "for i in tqdm_notebook(range(len(webtoon_content_list))):\n",
    "    # 임베딩\n",
    "    doc_embedding = model.encode([webtoon_content_list[i]])\n",
    "    candidate_embeddings = model.encode(webtoon_adjective_list[i])\n",
    "    \n",
    "    # keyword 추출\n",
    "    try:\n",
    "        keyword = max_sum_sim(doc_embedding, candidate_embeddings, webtoon_adjective_list[i], 5, 10)\n",
    "        keywords.append(\", \".join(keyword))\n",
    "    except:\n",
    "        keywords.append(np.nan)"
   ]
  },
  {
   "cell_type": "code",
   "execution_count": 69,
   "id": "7951f690",
   "metadata": {},
   "outputs": [
    {
     "data": {
      "text/html": [
       "<div>\n",
       "<style scoped>\n",
       "    .dataframe tbody tr th:only-of-type {\n",
       "        vertical-align: middle;\n",
       "    }\n",
       "\n",
       "    .dataframe tbody tr th {\n",
       "        vertical-align: top;\n",
       "    }\n",
       "\n",
       "    .dataframe thead th {\n",
       "        text-align: right;\n",
       "    }\n",
       "</style>\n",
       "<table border=\"1\" class=\"dataframe\">\n",
       "  <thead>\n",
       "    <tr style=\"text-align: right;\">\n",
       "      <th></th>\n",
       "      <th>Title</th>\n",
       "      <th>Character</th>\n",
       "      <th>Sex</th>\n",
       "      <th>Age</th>\n",
       "      <th>설명</th>\n",
       "      <th>keyword</th>\n",
       "      <th>5_keywords</th>\n",
       "    </tr>\n",
       "  </thead>\n",
       "  <tbody>\n",
       "    <tr>\n",
       "      <th>0</th>\n",
       "      <td>폭풍의전학생</td>\n",
       "      <td>주인공</td>\n",
       "      <td>남</td>\n",
       "      <td>10대</td>\n",
       "      <td>최완서를 얼굴에 니킥을 작렬시켜 한방에 보내버리고 정해인을 박치기 한다음에 머리를 ...</td>\n",
       "      <td>순전히, 있지만, 엄청난, 태연한, 뛰어난데, 가까운, 약해서, 진정한, 안되지만,...</td>\n",
       "      <td>진정한, 당하며, 뛰어난데, 태연한, 안되지만</td>\n",
       "    </tr>\n",
       "    <tr>\n",
       "      <th>1</th>\n",
       "      <td>폭풍의전학생</td>\n",
       "      <td>최완서</td>\n",
       "      <td>남</td>\n",
       "      <td>10대</td>\n",
       "      <td>전 3반짱. 묘한 색깔의 피부[7]와 부서진 콧잔등이 포인트. 전설의 레전드의 최대...</td>\n",
       "      <td>불쌍한, 멀쩡하던, 수많은, 자리는, 평범하다, 좋아하는, 아니며, 없으며, 강한,...</td>\n",
       "      <td>강한, 좋아하는, 단련해서, 불쌍한, 험하다</td>\n",
       "    </tr>\n",
       "  </tbody>\n",
       "</table>\n",
       "</div>"
      ],
      "text/plain": [
       "    Title Character Sex  Age  \\\n",
       "0  폭풍의전학생       주인공   남  10대   \n",
       "1  폭풍의전학생       최완서   남  10대   \n",
       "\n",
       "                                                  설명  \\\n",
       "0  최완서를 얼굴에 니킥을 작렬시켜 한방에 보내버리고 정해인을 박치기 한다음에 머리를 ...   \n",
       "1  전 3반짱. 묘한 색깔의 피부[7]와 부서진 콧잔등이 포인트. 전설의 레전드의 최대...   \n",
       "\n",
       "                                             keyword  \\\n",
       "0  순전히, 있지만, 엄청난, 태연한, 뛰어난데, 가까운, 약해서, 진정한, 안되지만,...   \n",
       "1  불쌍한, 멀쩡하던, 수많은, 자리는, 평범하다, 좋아하는, 아니며, 없으며, 강한,...   \n",
       "\n",
       "                  5_keywords  \n",
       "0  진정한, 당하며, 뛰어난데, 태연한, 안되지만  \n",
       "1   강한, 좋아하는, 단련해서, 불쌍한, 험하다  "
      ]
     },
     "execution_count": 69,
     "metadata": {},
     "output_type": "execute_result"
    }
   ],
   "source": [
    "# keyword columns 생성\n",
    "webtoon_df['5_keywords'] = keywords\n",
    "webtoon_df.head(2)"
   ]
  },
  {
   "cell_type": "code",
   "execution_count": 71,
   "id": "d3f2bc94",
   "metadata": {},
   "outputs": [
    {
     "data": {
      "text/html": [
       "<div>\n",
       "<style scoped>\n",
       "    .dataframe tbody tr th:only-of-type {\n",
       "        vertical-align: middle;\n",
       "    }\n",
       "\n",
       "    .dataframe tbody tr th {\n",
       "        vertical-align: top;\n",
       "    }\n",
       "\n",
       "    .dataframe thead th {\n",
       "        text-align: right;\n",
       "    }\n",
       "</style>\n",
       "<table border=\"1\" class=\"dataframe\">\n",
       "  <thead>\n",
       "    <tr style=\"text-align: right;\">\n",
       "      <th></th>\n",
       "      <th>Title</th>\n",
       "      <th>Character</th>\n",
       "      <th>Sex</th>\n",
       "      <th>Age</th>\n",
       "      <th>5_keywords</th>\n",
       "    </tr>\n",
       "  </thead>\n",
       "  <tbody>\n",
       "    <tr>\n",
       "      <th>0</th>\n",
       "      <td>폭풍의전학생</td>\n",
       "      <td>주인공</td>\n",
       "      <td>남</td>\n",
       "      <td>10대</td>\n",
       "      <td>진정한, 당하며, 뛰어난데, 태연한, 안되지만</td>\n",
       "    </tr>\n",
       "    <tr>\n",
       "      <th>1</th>\n",
       "      <td>폭풍의전학생</td>\n",
       "      <td>최완서</td>\n",
       "      <td>남</td>\n",
       "      <td>10대</td>\n",
       "      <td>강한, 좋아하는, 단련해서, 불쌍한, 험하다</td>\n",
       "    </tr>\n",
       "  </tbody>\n",
       "</table>\n",
       "</div>"
      ],
      "text/plain": [
       "    Title Character Sex  Age                 5_keywords\n",
       "0  폭풍의전학생       주인공   남  10대  진정한, 당하며, 뛰어난데, 태연한, 안되지만\n",
       "1  폭풍의전학생       최완서   남  10대   강한, 좋아하는, 단련해서, 불쌍한, 험하다"
      ]
     },
     "execution_count": 71,
     "metadata": {},
     "output_type": "execute_result"
    }
   ],
   "source": [
    "# Title, Character, Sex, Age, 5_keywords columns만 가지는 새로운 데이터 프레임 생성\n",
    "webtoon_df = webtoon_df[['Title', 'Character', 'Sex', 'Age', '5_keywords']]\n",
    "webtoon_df.head(2)"
   ]
  },
  {
   "cell_type": "code",
   "execution_count": 72,
   "id": "454434b8",
   "metadata": {},
   "outputs": [],
   "source": [
    "# 데이터 프레임 저장\n",
    "webtoon_df.to_csv('../text_data/webtoon_keywords.csv', encoding='utf-8-sig', index=False)"
   ]
  }
 ],
 "metadata": {
  "kernelspec": {
   "display_name": "Python 3 (ipykernel)",
   "language": "python",
   "name": "python3"
  },
  "language_info": {
   "codemirror_mode": {
    "name": "ipython",
    "version": 3
   },
   "file_extension": ".py",
   "mimetype": "text/x-python",
   "name": "python",
   "nbconvert_exporter": "python",
   "pygments_lexer": "ipython3",
   "version": "3.8.12"
  }
 },
 "nbformat": 4,
 "nbformat_minor": 5
}
