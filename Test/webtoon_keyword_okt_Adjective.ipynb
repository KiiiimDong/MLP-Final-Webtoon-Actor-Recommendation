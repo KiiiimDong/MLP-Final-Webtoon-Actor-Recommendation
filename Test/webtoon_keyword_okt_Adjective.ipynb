{
 "cells": [
  {
   "cell_type": "markdown",
   "id": "a64f8c51",
   "metadata": {},
   "source": [
    "## 1. 패키지 로드"
   ]
  },
  {
   "cell_type": "code",
   "execution_count": 1,
   "id": "bb5091e2",
   "metadata": {},
   "outputs": [],
   "source": [
    "import pandas as pd\n",
    "from konlpy.tag import Okt\n",
    "from collections import Counter\n",
    "from tqdm import tqdm_notebook"
   ]
  },
  {
   "cell_type": "markdown",
   "id": "8c9c8a3d",
   "metadata": {},
   "source": [
    "## 2. 데이터 로드"
   ]
  },
  {
   "cell_type": "code",
   "execution_count": 2,
   "id": "b382c63a",
   "metadata": {},
   "outputs": [
    {
     "data": {
      "text/html": [
       "<div>\n",
       "<style scoped>\n",
       "    .dataframe tbody tr th:only-of-type {\n",
       "        vertical-align: middle;\n",
       "    }\n",
       "\n",
       "    .dataframe tbody tr th {\n",
       "        vertical-align: top;\n",
       "    }\n",
       "\n",
       "    .dataframe thead th {\n",
       "        text-align: right;\n",
       "    }\n",
       "</style>\n",
       "<table border=\"1\" class=\"dataframe\">\n",
       "  <thead>\n",
       "    <tr style=\"text-align: right;\">\n",
       "      <th></th>\n",
       "      <th>Title</th>\n",
       "      <th>Character</th>\n",
       "      <th>Sex</th>\n",
       "      <th>Age</th>\n",
       "      <th>설명</th>\n",
       "    </tr>\n",
       "  </thead>\n",
       "  <tbody>\n",
       "    <tr>\n",
       "      <th>0</th>\n",
       "      <td>폭풍의전학생</td>\n",
       "      <td>주인공</td>\n",
       "      <td>남</td>\n",
       "      <td>10대</td>\n",
       "      <td>최완서를 얼굴에 니킥을 작렬시켜 한방에 보내버리고 정해인을 박치기 한다음에 머리를 ...</td>\n",
       "    </tr>\n",
       "    <tr>\n",
       "      <th>1</th>\n",
       "      <td>폭풍의전학생</td>\n",
       "      <td>최완서</td>\n",
       "      <td>남</td>\n",
       "      <td>10대</td>\n",
       "      <td>전 3반짱. 묘한 색깔의 피부[7]와 부서진 콧잔등이 포인트. 전설의 레전드의 최대...</td>\n",
       "    </tr>\n",
       "    <tr>\n",
       "      <th>2</th>\n",
       "      <td>폭풍의전학생</td>\n",
       "      <td>김대용</td>\n",
       "      <td>남</td>\n",
       "      <td>10대</td>\n",
       "      <td>1반의 짱을 맡고 있는 녀석이다. 처음엔 무슨 최종보스같은 포스를 내뿜었지만 나중엔...</td>\n",
       "    </tr>\n",
       "    <tr>\n",
       "      <th>3</th>\n",
       "      <td>폭풍의전학생</td>\n",
       "      <td>정해인</td>\n",
       "      <td>남</td>\n",
       "      <td>10대</td>\n",
       "      <td>실눈 남자. 서울에서 태어나고 자란 서울 토박이지만 어릴적 본 조폭 영화에서 큰 감...</td>\n",
       "    </tr>\n",
       "    <tr>\n",
       "      <th>4</th>\n",
       "      <td>폭풍의전학생</td>\n",
       "      <td>황인규</td>\n",
       "      <td>남</td>\n",
       "      <td>10대</td>\n",
       "      <td>근육질의 남자. 6반의 짱을 맡고 있다. 대체 어떻게 이런 녀석이 다른 반의 짱들과...</td>\n",
       "    </tr>\n",
       "  </tbody>\n",
       "</table>\n",
       "</div>"
      ],
      "text/plain": [
       "    Title Character Sex  Age  \\\n",
       "0  폭풍의전학생       주인공   남  10대   \n",
       "1  폭풍의전학생       최완서   남  10대   \n",
       "2  폭풍의전학생       김대용   남  10대   \n",
       "3  폭풍의전학생       정해인   남  10대   \n",
       "4  폭풍의전학생       황인규   남  10대   \n",
       "\n",
       "                                                  설명  \n",
       "0  최완서를 얼굴에 니킥을 작렬시켜 한방에 보내버리고 정해인을 박치기 한다음에 머리를 ...  \n",
       "1  전 3반짱. 묘한 색깔의 피부[7]와 부서진 콧잔등이 포인트. 전설의 레전드의 최대...  \n",
       "2  1반의 짱을 맡고 있는 녀석이다. 처음엔 무슨 최종보스같은 포스를 내뿜었지만 나중엔...  \n",
       "3  실눈 남자. 서울에서 태어나고 자란 서울 토박이지만 어릴적 본 조폭 영화에서 큰 감...  \n",
       "4  근육질의 남자. 6반의 짱을 맡고 있다. 대체 어떻게 이런 녀석이 다른 반의 짱들과...  "
      ]
     },
     "execution_count": 2,
     "metadata": {},
     "output_type": "execute_result"
    }
   ],
   "source": [
    "webtoon_df = pd.read_csv('../text_data/Webtoon.csv')\n",
    "webtoon_df.head()"
   ]
  },
  {
   "cell_type": "markdown",
   "id": "2213343b",
   "metadata": {},
   "source": [
    "## 3. 불용어 지정을 위한 데이터 분석"
   ]
  },
  {
   "cell_type": "code",
   "execution_count": 3,
   "id": "64300c81",
   "metadata": {},
   "outputs": [],
   "source": [
    "# Okt 객체 선언\n",
    "okt = Okt()"
   ]
  },
  {
   "cell_type": "code",
   "execution_count": 4,
   "id": "37d56a26",
   "metadata": {},
   "outputs": [
    {
     "name": "stderr",
     "output_type": "stream",
     "text": [
      "/tmp/ipykernel_13886/727728126.py:4: TqdmDeprecationWarning: This function will be removed in tqdm==5.0.0\n",
      "Please use `tqdm.notebook.tqdm` instead of `tqdm.tqdm_notebook`\n",
      "  for sentence in tqdm_notebook(webtoon_df['설명']):\n"
     ]
    },
    {
     "data": {
      "application/vnd.jupyter.widget-view+json": {
       "model_id": "55e6a00b59434c16beb77f654f7360bc",
       "version_major": 2,
       "version_minor": 0
      },
      "text/plain": [
       "  0%|          | 0/530 [00:00<?, ?it/s]"
      ]
     },
     "metadata": {},
     "output_type": "display_data"
    }
   ],
   "source": [
    "# 형태소 토큰화\n",
    "sentences_tag = []\n",
    "\n",
    "for sentence in tqdm_notebook(webtoon_df['설명']):\n",
    "    morph = okt.pos(sentence)\n",
    "    sentences_tag.append(morph)"
   ]
  },
  {
   "cell_type": "code",
   "execution_count": 5,
   "id": "f7ef325a",
   "metadata": {},
   "outputs": [],
   "source": [
    "# 형용사만 추출\n",
    "stopwords = []\n",
    "bucket_list = []\n",
    "\n",
    "for my_sentence in sentences_tag:\n",
    "    for word, tag in my_sentence:\n",
    "        if tag in ['Adjective']:\n",
    "            if word not in stopwords:\n",
    "                bucket_list.append(word)"
   ]
  },
  {
   "cell_type": "code",
   "execution_count": 6,
   "id": "0e12e361",
   "metadata": {
    "scrolled": true
   },
   "outputs": [
    {
     "data": {
      "text/plain": [
       "[('있다', 700),\n",
       " ('있는', 468),\n",
       " ('같은', 266),\n",
       " ('없는', 190),\n",
       " ('좋아하는', 143),\n",
       " ('그런', 133),\n",
       " ('상당히', 128),\n",
       " ('아닌', 122),\n",
       " ('좋은', 110),\n",
       " ('인해', 108),\n",
       " ('없다', 107),\n",
       " ('이런', 104),\n",
       " ('있었다', 97),\n",
       " ('아니라', 93),\n",
       " ('많은', 85),\n",
       " ('있으며', 84),\n",
       " ('있지만', 74),\n",
       " ('있다는', 74),\n",
       " ('의해', 73),\n",
       " ('있던', 70),\n",
       " ('있다고', 70),\n",
       " ('같다', 66),\n",
       " ('아니다', 66),\n",
       " ('엄청난', 65),\n",
       " ('있을', 63),\n",
       " ('있고', 60),\n",
       " ('굉장히', 57),\n",
       " ('어떻게', 56),\n",
       " ('없다고', 56),\n",
       " ('많다', 55),\n",
       " ('완전히', 53),\n",
       " ('있었던', 53),\n",
       " ('있는데', 53),\n",
       " ('의하면', 53),\n",
       " ('다르게', 52),\n",
       " ('평범한', 52),\n",
       " ('어떤', 51),\n",
       " ('있어', 46),\n",
       " ('당한다', 46),\n",
       " ('있어서', 45),\n",
       " ('당하는', 44),\n",
       " ('비슷한', 42),\n",
       " ('아니고', 42),\n",
       " ('상당한', 41),\n",
       " ('당하고', 41),\n",
       " ('없고', 40),\n",
       " ('유일하게', 38),\n",
       " ('좋지', 37),\n",
       " ('강한', 36),\n",
       " ('여리는', 36)]"
      ]
     },
     "execution_count": 6,
     "metadata": {},
     "output_type": "execute_result"
    }
   ],
   "source": [
    "# 불용어 선정을 위한 counter\n",
    "counts = Counter(bucket_list)\n",
    "counts.most_common(50)"
   ]
  },
  {
   "cell_type": "code",
   "execution_count": 7,
   "id": "30e13288",
   "metadata": {},
   "outputs": [],
   "source": [
    "# 불용어 지정\n",
    "stopwords = ['먼', '그러다', '다를', '있자', '있는줄', '그럼에도', '뻔하다가', '새로','미를', '미에게', '있다', '있는', '같은', '없는', '그런', '상당히', '아닌', '좋은', '인해', '없다', '이런', '있었다', '아니라', '많은', '있으며', '의해', '있다는','가능한', '이런건', '같긴' '있지만', '있던', '있다고', '같다', '아니다', '있을', '있고', '없다고', '굉장히', '어떻게', '많다', '있었던', '의하면','당했', '아무런', '아니였냐', '완전히', '있는데', '다르게', '어떤', '있어', '당한다', '당해', '안된다', '있어서', '당하는', '상당한', '말라', '그래', '당하고', '아니고', '없고', '당했는데', '없기', '없지만', '꼬이기', '그렇지']"
   ]
  },
  {
   "cell_type": "markdown",
   "id": "0450debf",
   "metadata": {},
   "source": [
    "## 4. 형용사 추출"
   ]
  },
  {
   "cell_type": "code",
   "execution_count": 8,
   "id": "05bc8fb1",
   "metadata": {},
   "outputs": [
    {
     "name": "stderr",
     "output_type": "stream",
     "text": [
      "/tmp/ipykernel_13886/4015710611.py:4: TqdmDeprecationWarning: This function will be removed in tqdm==5.0.0\n",
      "Please use `tqdm.notebook.tqdm` instead of `tqdm.tqdm_notebook`\n",
      "  for sentence in tqdm_notebook(webtoon_df['설명']):\n"
     ]
    },
    {
     "data": {
      "application/vnd.jupyter.widget-view+json": {
       "model_id": "f25a7b1787f8406b8920759bd7e78aac",
       "version_major": 2,
       "version_minor": 0
      },
      "text/plain": [
       "  0%|          | 0/530 [00:00<?, ?it/s]"
      ]
     },
     "metadata": {},
     "output_type": "display_data"
    },
    {
     "name": "stderr",
     "output_type": "stream",
     "text": [
      "/tmp/ipykernel_13886/4015710611.py:8: TqdmDeprecationWarning: This function will be removed in tqdm==5.0.0\n",
      "Please use `tqdm.notebook.tqdm` instead of `tqdm.tqdm_notebook`\n",
      "  for my_sentence in tqdm_notebook(sentences_tag):\n"
     ]
    },
    {
     "data": {
      "application/vnd.jupyter.widget-view+json": {
       "model_id": "c3200c2ed55f4702831b81140188e968",
       "version_major": 2,
       "version_minor": 0
      },
      "text/plain": [
       "  0%|          | 0/530 [00:00<?, ?it/s]"
      ]
     },
     "metadata": {},
     "output_type": "display_data"
    }
   ],
   "source": [
    "total_keyword = [] \n",
    "sentences_tag = []\n",
    "\n",
    "for sentence in tqdm_notebook(webtoon_df['설명']):\n",
    "    morph = okt.pos(sentence)\n",
    "    sentences_tag.append(morph)\n",
    "        \n",
    "for my_sentence in tqdm_notebook(sentences_tag):\n",
    "    bucket_list = []\n",
    "    for word, tag in my_sentence:\n",
    "        if tag in ['Adjective']:\n",
    "            if word not in stopwords:\n",
    "                bucket_list.append(word)\n",
    "    total_keyword.append(\", \".join(bucket_list))"
   ]
  },
  {
   "cell_type": "code",
   "execution_count": 9,
   "id": "b6918606",
   "metadata": {
    "scrolled": true
   },
   "outputs": [
    {
     "data": {
      "text/plain": [
       "['순전히, 있지만, 엄청난, 태연한, 뛰어난데, 가까운, 약해서, 진정한, 안되지만, 당하며, 아쉽게, 섹시한, 여전한듯',\n",
       " '불쌍한, 멀쩡하던, 수많은, 자리는, 평범하다, 좋아하는, 아니며, 없으며, 강한, 아니기, 평정했던, 있었다는, 여전히, 당연한게, 느려서, 그렇다, 비슷하게, 단련해서, 강해졌다고, 안좋다, 변하고, 순하고, 변함, 약한, 약하다고, 강한, 아니, 휩쓸려, 좋아라, 험하다, 약하다고, 약하다고, 있었는지',\n",
       " '우세했지만, 비슷하게, 강하기는, 강한, 단련해서, 강해졌다, 친한, 강한, 성장하기',\n",
       " '비겁하게, 비슷한듯',\n",
       " '있었는지는, 우락부락한, 있듯이, 강하다, 순진하다는, 있었는데, 아닌가, 새로운, 반했었다, 순진했던, 더러운, 친한']"
      ]
     },
     "execution_count": 9,
     "metadata": {},
     "output_type": "execute_result"
    }
   ],
   "source": [
    "# 등장인물 별로 추출된 형용사가 담긴 list\n",
    "total_keyword[:5]"
   ]
  },
  {
   "cell_type": "markdown",
   "id": "25dfe3fc",
   "metadata": {},
   "source": [
    "## 5. 형용사 data 병합"
   ]
  },
  {
   "cell_type": "code",
   "execution_count": 10,
   "id": "c69e7af5",
   "metadata": {},
   "outputs": [
    {
     "data": {
      "text/html": [
       "<div>\n",
       "<style scoped>\n",
       "    .dataframe tbody tr th:only-of-type {\n",
       "        vertical-align: middle;\n",
       "    }\n",
       "\n",
       "    .dataframe tbody tr th {\n",
       "        vertical-align: top;\n",
       "    }\n",
       "\n",
       "    .dataframe thead th {\n",
       "        text-align: right;\n",
       "    }\n",
       "</style>\n",
       "<table border=\"1\" class=\"dataframe\">\n",
       "  <thead>\n",
       "    <tr style=\"text-align: right;\">\n",
       "      <th></th>\n",
       "      <th>Title</th>\n",
       "      <th>Character</th>\n",
       "      <th>Sex</th>\n",
       "      <th>Age</th>\n",
       "      <th>설명</th>\n",
       "      <th>keyword</th>\n",
       "    </tr>\n",
       "  </thead>\n",
       "  <tbody>\n",
       "    <tr>\n",
       "      <th>0</th>\n",
       "      <td>폭풍의전학생</td>\n",
       "      <td>주인공</td>\n",
       "      <td>남</td>\n",
       "      <td>10대</td>\n",
       "      <td>최완서를 얼굴에 니킥을 작렬시켜 한방에 보내버리고 정해인을 박치기 한다음에 머리를 ...</td>\n",
       "      <td>순전히, 있지만, 엄청난, 태연한, 뛰어난데, 가까운, 약해서, 진정한, 안되지만,...</td>\n",
       "    </tr>\n",
       "    <tr>\n",
       "      <th>1</th>\n",
       "      <td>폭풍의전학생</td>\n",
       "      <td>최완서</td>\n",
       "      <td>남</td>\n",
       "      <td>10대</td>\n",
       "      <td>전 3반짱. 묘한 색깔의 피부[7]와 부서진 콧잔등이 포인트. 전설의 레전드의 최대...</td>\n",
       "      <td>불쌍한, 멀쩡하던, 수많은, 자리는, 평범하다, 좋아하는, 아니며, 없으며, 강한,...</td>\n",
       "    </tr>\n",
       "    <tr>\n",
       "      <th>2</th>\n",
       "      <td>폭풍의전학생</td>\n",
       "      <td>김대용</td>\n",
       "      <td>남</td>\n",
       "      <td>10대</td>\n",
       "      <td>1반의 짱을 맡고 있는 녀석이다. 처음엔 무슨 최종보스같은 포스를 내뿜었지만 나중엔...</td>\n",
       "      <td>우세했지만, 비슷하게, 강하기는, 강한, 단련해서, 강해졌다, 친한, 강한, 성장하기</td>\n",
       "    </tr>\n",
       "  </tbody>\n",
       "</table>\n",
       "</div>"
      ],
      "text/plain": [
       "    Title Character Sex  Age  \\\n",
       "0  폭풍의전학생       주인공   남  10대   \n",
       "1  폭풍의전학생       최완서   남  10대   \n",
       "2  폭풍의전학생       김대용   남  10대   \n",
       "\n",
       "                                                  설명  \\\n",
       "0  최완서를 얼굴에 니킥을 작렬시켜 한방에 보내버리고 정해인을 박치기 한다음에 머리를 ...   \n",
       "1  전 3반짱. 묘한 색깔의 피부[7]와 부서진 콧잔등이 포인트. 전설의 레전드의 최대...   \n",
       "2  1반의 짱을 맡고 있는 녀석이다. 처음엔 무슨 최종보스같은 포스를 내뿜었지만 나중엔...   \n",
       "\n",
       "                                             keyword  \n",
       "0  순전히, 있지만, 엄청난, 태연한, 뛰어난데, 가까운, 약해서, 진정한, 안되지만,...  \n",
       "1  불쌍한, 멀쩡하던, 수많은, 자리는, 평범하다, 좋아하는, 아니며, 없으며, 강한,...  \n",
       "2    우세했지만, 비슷하게, 강하기는, 강한, 단련해서, 강해졌다, 친한, 강한, 성장하기  "
      ]
     },
     "execution_count": 10,
     "metadata": {},
     "output_type": "execute_result"
    }
   ],
   "source": [
    "webtoon_df['keyword'] = total_keyword\n",
    "webtoon_df.head(3)"
   ]
  },
  {
   "cell_type": "markdown",
   "id": "445f2848",
   "metadata": {},
   "source": [
    "## 6. 형용사가 추가된 데이터 프레임 저장"
   ]
  },
  {
   "cell_type": "code",
   "execution_count": 11,
   "id": "999c22c4",
   "metadata": {},
   "outputs": [],
   "source": [
    "webtoon_df.to_csv('../text_data/webtoon_data_keyword.csv', index=False, encoding='utf-8-sig')"
   ]
  }
 ],
 "metadata": {
  "kernelspec": {
   "display_name": "Python 3 (ipykernel)",
   "language": "python",
   "name": "python3"
  },
  "language_info": {
   "codemirror_mode": {
    "name": "ipython",
    "version": 3
   },
   "file_extension": ".py",
   "mimetype": "text/x-python",
   "name": "python",
   "nbconvert_exporter": "python",
   "pygments_lexer": "ipython3",
   "version": "3.8.12"
  }
 },
 "nbformat": 4,
 "nbformat_minor": 5
}
